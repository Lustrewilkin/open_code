{
 "cells": [
  {
   "cell_type": "code",
   "execution_count": 1,
   "metadata": {},
   "outputs": [],
   "source": [
    "import numpy as np"
   ]
  },
  {
   "cell_type": "code",
   "execution_count": 16,
   "metadata": {},
   "outputs": [
    {
     "data": {
      "text/plain": [
       "[3, 2, 1]"
      ]
     },
     "execution_count": 16,
     "metadata": {},
     "output_type": "execute_result"
    }
   ],
   "source": [
    "res = [1,2,3]\n",
    "res.reverse()\n",
    "res"
   ]
  },
  {
   "cell_type": "code",
   "execution_count": 1,
   "metadata": {},
   "outputs": [],
   "source": [
    "import torch"
   ]
  },
  {
   "cell_type": "code",
   "execution_count": 18,
   "metadata": {},
   "outputs": [],
   "source": [
    "\n",
    "def conv2d_pad_cpt(inputSize, outputSize, stride, dil, keneil_size):\n",
    "    \"\"\" input size = [N,C,H_in,W_in] or [C,H_in,W_in]\n",
    "        output size = [N,C,H_out,W_out] or [C,H_out,W_out]\n",
    "        stride = [H_s, W_s]\n",
    "        dil = [H_d, W_d]\n",
    "        keneil_size = [k_h, k_w]\n",
    "\n",
    "        因为卷积计算时会自动向下取整，在padding上则向上取整\n",
    "    \"\"\"\n",
    "    H_in, W_in = inputSize[2], inputSize[3]\n",
    "    H_out, W_out = outputSize[2], outputSize[3]\n",
    "\n",
    "    if isinstance(stride, int):\n",
    "        stride = [stride, stride]\n",
    "    if isinstance(dil, int):\n",
    "        dil = [dil, dil]\n",
    "    if isinstance(keneil_size, int):\n",
    "        keneil_size = [keneil_size, keneil_size]\n",
    "\n",
    "    ks = keneil_size\n",
    "    pad1 = (H_out - 1) * stride[0] - H_in + dil[0] * (ks[0] - 1) + 1\n",
    "    pad2 = (W_out - 1) * stride[1] - W_in + dil[1] * (ks[1] - 1) + 1\n",
    "\n",
    "    if pad1 % 2 != 0 :\n",
    "        pad1 += 1\n",
    "\n",
    "    if pad2 % 2 != 0:\n",
    "        pad2 += 1\n",
    "    return pad1/2, pad2/2, pad1//2 , pad2//2 "
   ]
  },
  {
   "cell_type": "code",
   "execution_count": 19,
   "metadata": {},
   "outputs": [
    {
     "data": {
      "text/plain": [
       "(9.0, 10.0, 9, 10)"
      ]
     },
     "execution_count": 19,
     "metadata": {},
     "output_type": "execute_result"
    }
   ],
   "source": [
    "inputSize, outputSize = [1,1,18,128], [1,3,18,62]\n",
    "stride, dil, keneil_size = 2, 1, [1,128//5]\n",
    "conv2d_pad_cpt(inputSize, outputSize, stride, dil, keneil_size)"
   ]
  },
  {
   "cell_type": "code",
   "execution_count": 4,
   "metadata": {},
   "outputs": [
    {
     "data": {
      "text/plain": [
       "(8.0, 0.0, 8, 0)"
      ]
     },
     "execution_count": 4,
     "metadata": {},
     "output_type": "execute_result"
    }
   ],
   "source": [
    "nc = 18 # channel\n",
    "q = 5\n",
    "T = 128\n",
    "stride  = 2\n",
    "ks = T//(1*q)\n",
    "p1 = int((T - T//(4*q))/2) + 1\n",
    "inputSize, outputSize = [1,3,18,T], [1,3,18,p1]\n",
    "stride, dil, keneil_size = 2, 1, [1,T//(4*q)+1]\n",
    "conv2d_pad_cpt(inputSize, outputSize, stride, dil, keneil_size)"
   ]
  },
  {
   "cell_type": "code",
   "execution_count": 12,
   "metadata": {},
   "outputs": [
    {
     "data": {
      "text/plain": [
       "(8.0, 1.0, 8, 1)"
      ]
     },
     "execution_count": 12,
     "metadata": {},
     "output_type": "execute_result"
    }
   ],
   "source": [
    "p2 = int((p1 - p1//(4*q))/2) + 1\n",
    "ks = p1//(2*q)+1\n",
    "inputSize, outputSize = [1,3,18,p1], [1,3,18,p2]\n",
    "stride, dil, keneil_size = 2, 1, [1,ks]\n",
    "conv2d_pad_cpt(inputSize, outputSize, stride, dil, keneil_size)"
   ]
  },
  {
   "cell_type": "code",
   "execution_count": 9,
   "metadata": {},
   "outputs": [
    {
     "data": {
      "text/plain": [
       "(-0.5, 0.0, -1, 0)"
      ]
     },
     "execution_count": 9,
     "metadata": {},
     "output_type": "execute_result"
    }
   ],
   "source": [
    "inputSize, outputSize = [32, 1, 128, 18], [32, 16, 128, 1]\n",
    "stride, dil, keneil_size = 1, 1, [1,19]\n",
    "conv2d_pad_cpt(inputSize, outputSize, stride, dil, keneil_size)"
   ]
  }
 ],
 "metadata": {
  "interpreter": {
   "hash": "17df5e0dbd28e3de4a377cfa55fc96f308325d7152f8bc5af8ae2e74f866f3ef"
  },
  "kernelspec": {
   "display_name": "Python 3.8.11 64-bit ('DLtorch-py38': conda)",
   "language": "python",
   "name": "python3"
  },
  "language_info": {
   "codemirror_mode": {
    "name": "ipython",
    "version": 3
   },
   "file_extension": ".py",
   "mimetype": "text/x-python",
   "name": "python",
   "nbconvert_exporter": "python",
   "pygments_lexer": "ipython3",
   "version": "3.8.11"
  },
  "orig_nbformat": 4
 },
 "nbformat": 4,
 "nbformat_minor": 2
}
