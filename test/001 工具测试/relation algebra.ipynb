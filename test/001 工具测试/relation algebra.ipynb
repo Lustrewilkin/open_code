{
 "metadata": {
  "language_info": {
   "codemirror_mode": {
    "name": "ipython",
    "version": 3
   },
   "file_extension": ".py",
   "mimetype": "text/x-python",
   "name": "python",
   "nbconvert_exporter": "python",
   "pygments_lexer": "ipython3",
   "version": "3.8.10"
  },
  "orig_nbformat": 2,
  "kernelspec": {
   "name": "python3810jvsc74a57bd017df5e0dbd28e3de4a377cfa55fc96f308325d7152f8bc5af8ae2e74f866f3ef",
   "display_name": "Python 3.8.10 64-bit ('DLtorch-py38': conda)"
  }
 },
 "nbformat": 4,
 "nbformat_minor": 2,
 "cells": [
  {
   "cell_type": "code",
   "execution_count": 1,
   "metadata": {},
   "outputs": [],
   "source": [
    "import numpy as np\n",
    "import pandas as pd"
   ]
  },
  {
   "source": [
    "# 连接基础"
   ],
   "cell_type": "markdown",
   "metadata": {}
  },
  {
   "cell_type": "code",
   "execution_count": 5,
   "metadata": {},
   "outputs": [
    {
     "output_type": "stream",
     "name": "stdout",
     "text": [
      "  employee        group\n0      Bob   Accounting\n1     Jake  Engineering\n2     Lisa  Engineering\n3      Sue           HR\n  employee  hire_date\n0     Lisa       2004\n1      Bob       2008\n2     Jake       2012\n3      Sue       2014\n  employee        group  hire_date\n0      Bob   Accounting       2008\n1     Jake  Engineering       2012\n2     Lisa  Engineering       2004\n3      Sue           HR       2014\n  employee  hire_date        group\n0     Lisa       2004  Engineering\n1      Bob       2008   Accounting\n2     Jake       2012  Engineering\n3      Sue       2014           HR\n"
     ]
    }
   ],
   "source": [
    "# pd.merge() 函数实现了三种数据连接的类型：一对一、多对一和多对多。\n",
    "df1 = pd.DataFrame({'employee': ['Bob', 'Jake', 'Lisa', 'Sue'], \n",
    "                    'group': ['Accounting', 'Engineering', 'Engineering', 'HR']}) \n",
    "df2 = pd.DataFrame({'employee': ['Lisa', 'Bob', 'Jake', 'Sue'], \n",
    "                    'hire_date': [2004, 2008, 2012, 2014]}) \n",
    "\n",
    "# 一对一\n",
    "print(df1), print(df2);print(pd.merge(df1, df2));print(pd.merge(df2, df1))"
   ]
  },
  {
   "cell_type": "code",
   "execution_count": 6,
   "metadata": {},
   "outputs": [
    {
     "output_type": "stream",
     "name": "stdout",
     "text": [
      "  employee        group  hire_date\n0      Bob   Accounting       2008\n1     Jake  Engineering       2012\n2     Lisa  Engineering       2004\n3      Sue           HR       2014\n         group supervisor\n0   Accounting      Carly\n1  Engineering      Guido\n2           HR      Steve\n  employee        group  hire_date supervisor\n0      Bob   Accounting       2008      Carly\n1     Jake  Engineering       2012      Guido\n2     Lisa  Engineering       2004      Guido\n3      Sue           HR       2014      Steve\n"
     ]
    }
   ],
   "source": [
    "# 一对多\n",
    "# 多对一连接是指，在需要连接的两个列中，有一列的值有重复。通过多对一连接获得的结果 DataFrame 将会保留重复值。\n",
    "# 这是一种连接映射\n",
    "df3 = pd.merge(df1, df2)\n",
    "df4 = pd.DataFrame({'group': ['Accounting', 'Engineering', 'HR'], \n",
    "                           'supervisor': ['Carly', 'Guido', 'Steve']}) \n",
    "print(df3); print(df4); print(pd.merge(df3, df4))"
   ]
  },
  {
   "cell_type": "code",
   "execution_count": 7,
   "metadata": {},
   "outputs": [
    {
     "output_type": "stream",
     "name": "stdout",
     "text": [
      "  employee        group\n0      Bob   Accounting\n1     Jake  Engineering\n2     Lisa  Engineering\n3      Sue           HR\n  employee  hire_date\n0     Lisa       2004\n1      Bob       2008\n2     Jake       2012\n3      Sue       2014\n  employee        group  hire_date\n0      Bob   Accounting       2008\n1     Jake  Engineering       2012\n2     Lisa  Engineering       2004\n3      Sue           HR       2014\n"
     ]
    }
   ],
   "source": [
    "# 合并的参数\n",
    "## 参数 on，这个参数只能在两个 DataFrame 有共同列名的时候才可以使用，限制合并的列\n",
    "## 有时你也需要合并两个列名不同的数据集，用left_on 和 right_on 对应，可以合并相同的项目\n",
    "## left_index 和 right_index 则操作行\n",
    "print(df1); print(df2); print(pd.merge(df1, df2, on='employee')) "
   ]
  },
  {
   "cell_type": "code",
   "execution_count": 10,
   "metadata": {},
   "outputs": [
    {
     "output_type": "stream",
     "name": "stdout",
     "text": [
      "                group\nemployee             \nBob        Accounting\nJake      Engineering\nLisa      Engineering\nSue                HR\n          hire_date\nemployee           \nLisa           2004\nBob            2008\nJake           2012\nSue            2014\n                group  hire_date\nemployee                        \nBob        Accounting       2008\nJake      Engineering       2012\nLisa      Engineering       2004\nSue                HR       2014\n"
     ]
    }
   ],
   "source": [
    "# 为了方便考虑，DataFrame 实现了 join() 方法，它可以按照索引进行数据合并：\n",
    "df1a = df1.set_index('employee') \n",
    "df2a = df2.set_index('employee') \n",
    "print(df1a); print(df2a); print(df1a.join(df2a))"
   ]
  },
  {
   "source": [
    "# 集合操作"
   ],
   "cell_type": "markdown",
   "metadata": {}
  },
  {
   "cell_type": "code",
   "execution_count": 15,
   "metadata": {},
   "outputs": [
    {
     "output_type": "stream",
     "name": "stdout",
     "text": [
      "    name   food\n0  Peter   fish\n1   Paul  beans\n2   Mary  bread\n     name drink\n0    Mary  wine\n1  Joseph  beer\n   name   food drink\n0  Mary  bread  wine\n     name   food drink\n0   Peter   fish   NaN\n1    Paul  beans   NaN\n2    Mary  bread  wine\n3  Joseph    NaN  beer\n"
     ]
    }
   ],
   "source": [
    "df6 = pd.DataFrame({'name': ['Peter', 'Paul', 'Mary'], \n",
    "                            'food': ['fish', 'beans', 'bread']}, \n",
    "                           columns=['name', 'food']) \n",
    "df7 = pd.DataFrame({'name': ['Mary', 'Joseph'], \n",
    "                            'drink': ['wine', 'beer']}, \n",
    "                           columns=['name', 'drink']) \n",
    "print(df6); print(df7); print(pd.merge(df6, df7,how='inner')); print(pd.merge(df6, df7,how='outer')) "
   ]
  },
  {
   "cell_type": "code",
   "execution_count": 17,
   "metadata": {},
   "outputs": [
    {
     "output_type": "stream",
     "name": "stdout",
     "text": [
      "   name  rank\n0   Bob     1\n1  Jake     2\n2  Lisa     3\n3   Sue     4\n   name  rank\n0   Bob     3\n1  Jake     1\n2  Lisa     4\n3   Sue     2\n   name  rank_x  rank_y\n0   Bob       1       3\n1  Jake       2       1\n2  Lisa       3       4\n3   Sue       4       2\n   name  rank_L  rank_R\n0   Bob       1       3\n1  Jake       2       1\n2  Lisa       3       4\n3   Sue       4       2\n"
     ]
    }
   ],
   "source": [
    "# 输出结果中有两个重复的列名，因此 pd.merge() 函数会自动为它们增加后缀 _x 或 _y\n",
    "# 也可以通过 suffixes 参数自定义后缀名\n",
    "df8 = pd.DataFrame({'name': ['Bob', 'Jake', 'Lisa', 'Sue'], \n",
    "                            'rank': [1, 2, 3, 4]}) \n",
    "df9 = pd.DataFrame({'name': ['Bob', 'Jake', 'Lisa', 'Sue'], \n",
    "                    'rank': [3, 1, 4, 2]}) \n",
    "print(df8); print(df9); print(pd.merge(df8, df9, on=\"name\"));print(pd.merge(df8, df9, on=\"name\", suffixes=[\"_L\", \"_R\"])) "
   ]
  }
 ]
}