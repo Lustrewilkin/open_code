{
 "cells": [
  {
   "cell_type": "code",
   "execution_count": null,
   "metadata": {},
   "outputs": [],
   "source": [
    "# 使用 panda 进行数据处理\n",
    "## 原因：有key，容易处理"
   ]
  },
  {
   "cell_type": "code",
   "execution_count": 3,
   "metadata": {},
   "outputs": [],
   "source": [
    "import pandas as pd\n",
    "import numpy as np"
   ]
  },
  {
   "cell_type": "markdown",
   "metadata": {},
   "source": [
    "# data build"
   ]
  },
  {
   "cell_type": "code",
   "execution_count": 13,
   "metadata": {},
   "outputs": [
    {
     "data": {
      "text/html": [
       "<div>\n",
       "<style scoped>\n",
       "    .dataframe tbody tr th:only-of-type {\n",
       "        vertical-align: middle;\n",
       "    }\n",
       "\n",
       "    .dataframe tbody tr th {\n",
       "        vertical-align: top;\n",
       "    }\n",
       "\n",
       "    .dataframe thead th {\n",
       "        text-align: right;\n",
       "    }\n",
       "</style>\n",
       "<table border=\"1\" class=\"dataframe\">\n",
       "  <thead>\n",
       "    <tr style=\"text-align: right;\">\n",
       "      <th></th>\n",
       "      <th>1</th>\n",
       "      <th>2</th>\n",
       "      <th>3</th>\n",
       "    </tr>\n",
       "  </thead>\n",
       "  <tbody>\n",
       "    <tr>\n",
       "      <th>a</th>\n",
       "      <td>-0.941224</td>\n",
       "      <td>1.688849</td>\n",
       "      <td>1.859780</td>\n",
       "    </tr>\n",
       "    <tr>\n",
       "      <th>b</th>\n",
       "      <td>-0.854122</td>\n",
       "      <td>-1.337089</td>\n",
       "      <td>0.337921</td>\n",
       "    </tr>\n",
       "    <tr>\n",
       "      <th>c</th>\n",
       "      <td>0.591162</td>\n",
       "      <td>-0.076909</td>\n",
       "      <td>-0.744964</td>\n",
       "    </tr>\n",
       "  </tbody>\n",
       "</table>\n",
       "</div>"
      ],
      "text/plain": [
       "          1         2         3\n",
       "a -0.941224  1.688849  1.859780\n",
       "b -0.854122 -1.337089  0.337921\n",
       "c  0.591162 -0.076909 -0.744964"
      ]
     },
     "execution_count": 13,
     "metadata": {},
     "output_type": "execute_result"
    }
   ],
   "source": [
    "data = np.random.randn(3,3)\n",
    "data = pd.DataFrame(data,index=['a','b','c'],columns=['1','2','3'])\n",
    "data"
   ]
  },
  {
   "cell_type": "markdown",
   "metadata": {},
   "source": [
    "# Index"
   ]
  },
  {
   "cell_type": "code",
   "execution_count": null,
   "metadata": {},
   "outputs": [],
   "source": [
    "## index 对应元组，不可变\n",
    "ind = pd.Index([2, 3, 5, 7, 11]) "
   ]
  },
  {
   "cell_type": "code",
   "execution_count": 14,
   "metadata": {},
   "outputs": [
    {
     "name": "stdout",
     "output_type": "stream",
     "text": [
      "1\n",
      "2\n",
      "3\n"
     ]
    }
   ],
   "source": [
    "for index in data:\n",
    "    print(index)"
   ]
  },
  {
   "cell_type": "code",
   "execution_count": 35,
   "metadata": {},
   "outputs": [
    {
     "data": {
      "text/plain": [
       "[('1',\n",
       "  a   -0.941224\n",
       "  b   -0.854122\n",
       "  c    0.591162\n",
       "  Name: 1, dtype: float64),\n",
       " ('2',\n",
       "  a    1.688849\n",
       "  b   -1.337089\n",
       "  c   -0.076909\n",
       "  Name: 2, dtype: float64),\n",
       " ('3',\n",
       "  a    1.859780\n",
       "  b    0.337921\n",
       "  c   -0.744964\n",
       "  Name: 3, dtype: float64)]"
      ]
     },
     "execution_count": 35,
     "metadata": {},
     "output_type": "execute_result"
    }
   ],
   "source": [
    "list(data.items())"
   ]
  },
  {
   "cell_type": "markdown",
   "metadata": {},
   "source": [
    "# save"
   ]
  },
  {
   "cell_type": "code",
   "execution_count": 24,
   "metadata": {},
   "outputs": [],
   "source": [
    "# 保存为csv\n",
    "data.to_csv('E:\\\\DATABASE\\\\test.csv')"
   ]
  },
  {
   "cell_type": "markdown",
   "metadata": {},
   "source": [
    "# append, rec"
   ]
  },
  {
   "cell_type": "code",
   "execution_count": 39,
   "metadata": {},
   "outputs": [
    {
     "data": {
      "text/html": [
       "<div>\n",
       "<style scoped>\n",
       "    .dataframe tbody tr th:only-of-type {\n",
       "        vertical-align: middle;\n",
       "    }\n",
       "\n",
       "    .dataframe tbody tr th {\n",
       "        vertical-align: top;\n",
       "    }\n",
       "\n",
       "    .dataframe thead th {\n",
       "        text-align: right;\n",
       "    }\n",
       "</style>\n",
       "<table border=\"1\" class=\"dataframe\">\n",
       "  <thead>\n",
       "    <tr style=\"text-align: right;\">\n",
       "      <th></th>\n",
       "      <th>1</th>\n",
       "      <th>2</th>\n",
       "      <th>3</th>\n",
       "      <th>4</th>\n",
       "    </tr>\n",
       "  </thead>\n",
       "  <tbody>\n",
       "    <tr>\n",
       "      <th>a</th>\n",
       "      <td>-0.941224</td>\n",
       "      <td>1.688849</td>\n",
       "      <td>1.859780</td>\n",
       "      <td>1.0</td>\n",
       "    </tr>\n",
       "    <tr>\n",
       "      <th>b</th>\n",
       "      <td>-0.854122</td>\n",
       "      <td>-1.337089</td>\n",
       "      <td>0.337921</td>\n",
       "      <td>2.0</td>\n",
       "    </tr>\n",
       "    <tr>\n",
       "      <th>c</th>\n",
       "      <td>0.591162</td>\n",
       "      <td>-0.076909</td>\n",
       "      <td>-0.744964</td>\n",
       "      <td>3.0</td>\n",
       "    </tr>\n",
       "  </tbody>\n",
       "</table>\n",
       "</div>"
      ],
      "text/plain": [
       "          1         2         3    4\n",
       "a -0.941224  1.688849  1.859780  1.0\n",
       "b -0.854122 -1.337089  0.337921  2.0\n",
       "c  0.591162 -0.076909 -0.744964  3.0"
      ]
     },
     "execution_count": 39,
     "metadata": {},
     "output_type": "execute_result"
    }
   ],
   "source": [
    "### 增加、修改数据\n",
    "data['4'] = [1.00, 2.0, 3.0] # data['4'] = 1.0 也可以 \n",
    "data"
   ]
  },
  {
   "cell_type": "code",
   "execution_count": 67,
   "metadata": {},
   "outputs": [
    {
     "data": {
      "text/plain": [
       "-0.9412243812313253"
      ]
     },
     "execution_count": 67,
     "metadata": {},
     "output_type": "execute_result"
    }
   ],
   "source": [
    "# 取值\n",
    "data['1']['a'] # out: -0.9412243812313253\n",
    "data['1'] \n",
    "# out:\n",
    "# a   -0.941224\n",
    "# b   -0.854122\n",
    "# c    0.591162\n",
    "# Name: 1, dtype: float64\n",
    "## 如果不想要额外信息\n",
    "data.loc['a','1'] # out: -0.9412243812313253\n",
    "## 使用位置\n",
    "data.iloc[0,0] # out: -0.9412243812313253"
   ]
  },
  {
   "cell_type": "markdown",
   "metadata": {},
   "source": [
    "# 计算"
   ]
  },
  {
   "cell_type": "code",
   "execution_count": 54,
   "metadata": {},
   "outputs": [
    {
     "data": {
      "text/html": [
       "<div>\n",
       "<style scoped>\n",
       "    .dataframe tbody tr th:only-of-type {\n",
       "        vertical-align: middle;\n",
       "    }\n",
       "\n",
       "    .dataframe tbody tr th {\n",
       "        vertical-align: top;\n",
       "    }\n",
       "\n",
       "    .dataframe thead th {\n",
       "        text-align: right;\n",
       "    }\n",
       "</style>\n",
       "<table border=\"1\" class=\"dataframe\">\n",
       "  <thead>\n",
       "    <tr style=\"text-align: right;\">\n",
       "      <th></th>\n",
       "      <th>1</th>\n",
       "      <th>2</th>\n",
       "      <th>3</th>\n",
       "      <th>4</th>\n",
       "      <th>avr</th>\n",
       "    </tr>\n",
       "  </thead>\n",
       "  <tbody>\n",
       "    <tr>\n",
       "      <th>a</th>\n",
       "      <td>-0.941224</td>\n",
       "      <td>1.688849</td>\n",
       "      <td>1.859780</td>\n",
       "      <td>1.0</td>\n",
       "      <td>-0.941224</td>\n",
       "    </tr>\n",
       "    <tr>\n",
       "      <th>b</th>\n",
       "      <td>-0.854122</td>\n",
       "      <td>-1.337089</td>\n",
       "      <td>0.337921</td>\n",
       "      <td>2.0</td>\n",
       "      <td>-0.427061</td>\n",
       "    </tr>\n",
       "    <tr>\n",
       "      <th>c</th>\n",
       "      <td>0.591162</td>\n",
       "      <td>-0.076909</td>\n",
       "      <td>-0.744964</td>\n",
       "      <td>3.0</td>\n",
       "      <td>0.197054</td>\n",
       "    </tr>\n",
       "  </tbody>\n",
       "</table>\n",
       "</div>"
      ],
      "text/plain": [
       "          1         2         3    4       avr\n",
       "a -0.941224  1.688849  1.859780  1.0 -0.941224\n",
       "b -0.854122 -1.337089  0.337921  2.0 -0.427061\n",
       "c  0.591162 -0.076909 -0.744964  3.0  0.197054"
      ]
     },
     "execution_count": 54,
     "metadata": {},
     "output_type": "execute_result"
    }
   ],
   "source": [
    "# 计算\n",
    "# 对于一元运算（像函数与三角函数） ，这些通用函\n",
    "# 数将在输出结果中保留索引和列标签；而对于二元运算（如加法和乘法） ，Pandas 在传递\n",
    "# 通用函数时会自动对齐索引进行计算\n",
    "data['avr'] = data['1']/data['4']\n",
    "data "
   ]
  },
  {
   "cell_type": "code",
   "execution_count": 57,
   "metadata": {},
   "outputs": [
    {
     "data": {
      "text/html": [
       "<div>\n",
       "<style scoped>\n",
       "    .dataframe tbody tr th:only-of-type {\n",
       "        vertical-align: middle;\n",
       "    }\n",
       "\n",
       "    .dataframe tbody tr th {\n",
       "        vertical-align: top;\n",
       "    }\n",
       "\n",
       "    .dataframe thead th {\n",
       "        text-align: right;\n",
       "    }\n",
       "</style>\n",
       "<table border=\"1\" class=\"dataframe\">\n",
       "  <thead>\n",
       "    <tr style=\"text-align: right;\">\n",
       "      <th></th>\n",
       "      <th>a</th>\n",
       "      <th>b</th>\n",
       "      <th>c</th>\n",
       "    </tr>\n",
       "  </thead>\n",
       "  <tbody>\n",
       "    <tr>\n",
       "      <th>1</th>\n",
       "      <td>-0.941224</td>\n",
       "      <td>-0.854122</td>\n",
       "      <td>0.591162</td>\n",
       "    </tr>\n",
       "    <tr>\n",
       "      <th>2</th>\n",
       "      <td>1.688849</td>\n",
       "      <td>-1.337089</td>\n",
       "      <td>-0.076909</td>\n",
       "    </tr>\n",
       "    <tr>\n",
       "      <th>3</th>\n",
       "      <td>1.859780</td>\n",
       "      <td>0.337921</td>\n",
       "      <td>-0.744964</td>\n",
       "    </tr>\n",
       "    <tr>\n",
       "      <th>4</th>\n",
       "      <td>1.000000</td>\n",
       "      <td>2.000000</td>\n",
       "      <td>3.000000</td>\n",
       "    </tr>\n",
       "    <tr>\n",
       "      <th>avr</th>\n",
       "      <td>-0.941224</td>\n",
       "      <td>-0.427061</td>\n",
       "      <td>0.197054</td>\n",
       "    </tr>\n",
       "  </tbody>\n",
       "</table>\n",
       "</div>"
      ],
      "text/plain": [
       "            a         b         c\n",
       "1   -0.941224 -0.854122  0.591162\n",
       "2    1.688849 -1.337089 -0.076909\n",
       "3    1.859780  0.337921 -0.744964\n",
       "4    1.000000  2.000000  3.000000\n",
       "avr -0.941224 -0.427061  0.197054"
      ]
     },
     "execution_count": 57,
     "metadata": {},
     "output_type": "execute_result"
    }
   ],
   "source": [
    "data.T"
   ]
  },
  {
   "cell_type": "code",
   "execution_count": 68,
   "metadata": {},
   "outputs": [
    {
     "data": {
      "text/html": [
       "<div>\n",
       "<style scoped>\n",
       "    .dataframe tbody tr th:only-of-type {\n",
       "        vertical-align: middle;\n",
       "    }\n",
       "\n",
       "    .dataframe tbody tr th {\n",
       "        vertical-align: top;\n",
       "    }\n",
       "\n",
       "    .dataframe thead th {\n",
       "        text-align: right;\n",
       "    }\n",
       "</style>\n",
       "<table border=\"1\" class=\"dataframe\">\n",
       "  <thead>\n",
       "    <tr style=\"text-align: right;\">\n",
       "      <th></th>\n",
       "      <th>1</th>\n",
       "      <th>2</th>\n",
       "      <th>3</th>\n",
       "      <th>4</th>\n",
       "      <th>avr</th>\n",
       "    </tr>\n",
       "  </thead>\n",
       "  <tbody>\n",
       "    <tr>\n",
       "      <th>a</th>\n",
       "      <td>NaN</td>\n",
       "      <td>1.688849</td>\n",
       "      <td>1.85978</td>\n",
       "      <td>1.0</td>\n",
       "      <td>NaN</td>\n",
       "    </tr>\n",
       "    <tr>\n",
       "      <th>b</th>\n",
       "      <td>NaN</td>\n",
       "      <td>NaN</td>\n",
       "      <td>NaN</td>\n",
       "      <td>2.0</td>\n",
       "      <td>NaN</td>\n",
       "    </tr>\n",
       "    <tr>\n",
       "      <th>c</th>\n",
       "      <td>0.591162</td>\n",
       "      <td>NaN</td>\n",
       "      <td>NaN</td>\n",
       "      <td>3.0</td>\n",
       "      <td>NaN</td>\n",
       "    </tr>\n",
       "  </tbody>\n",
       "</table>\n",
       "</div>"
      ],
      "text/plain": [
       "          1         2        3    4  avr\n",
       "a       NaN  1.688849  1.85978  1.0  NaN\n",
       "b       NaN       NaN      NaN  2.0  NaN\n",
       "c  0.591162       NaN      NaN  3.0  NaN"
      ]
     },
     "execution_count": 68,
     "metadata": {},
     "output_type": "execute_result"
    }
   ],
   "source": [
    "# 掩码\n",
    "data[data>0.5]"
   ]
  },
  {
   "cell_type": "code",
   "execution_count": 73,
   "metadata": {},
   "outputs": [
    {
     "data": {
      "text/html": [
       "<div>\n",
       "<style scoped>\n",
       "    .dataframe tbody tr th:only-of-type {\n",
       "        vertical-align: middle;\n",
       "    }\n",
       "\n",
       "    .dataframe tbody tr th {\n",
       "        vertical-align: top;\n",
       "    }\n",
       "\n",
       "    .dataframe thead th {\n",
       "        text-align: right;\n",
       "    }\n",
       "</style>\n",
       "<table border=\"1\" class=\"dataframe\">\n",
       "  <thead>\n",
       "    <tr style=\"text-align: right;\">\n",
       "      <th></th>\n",
       "      <th>1</th>\n",
       "      <th>2</th>\n",
       "      <th>3</th>\n",
       "      <th>4</th>\n",
       "      <th>avr</th>\n",
       "    </tr>\n",
       "  </thead>\n",
       "  <tbody>\n",
       "    <tr>\n",
       "      <th>a</th>\n",
       "      <td>-0.941224</td>\n",
       "      <td>1.688849</td>\n",
       "      <td>1.85978</td>\n",
       "      <td>1.0</td>\n",
       "      <td>-0.941224</td>\n",
       "    </tr>\n",
       "  </tbody>\n",
       "</table>\n",
       "</div>"
      ],
      "text/plain": [
       "          1         2        3    4       avr\n",
       "a -0.941224  1.688849  1.85978  1.0 -0.941224"
      ]
     },
     "execution_count": 73,
     "metadata": {},
     "output_type": "execute_result"
    }
   ],
   "source": [
    "data[(data['avr']<0) & (data['2']>0)]"
   ]
  },
  {
   "cell_type": "code",
   "execution_count": 74,
   "metadata": {},
   "outputs": [
    {
     "data": {
      "text/html": [
       "<div>\n",
       "<style scoped>\n",
       "    .dataframe tbody tr th:only-of-type {\n",
       "        vertical-align: middle;\n",
       "    }\n",
       "\n",
       "    .dataframe tbody tr th {\n",
       "        vertical-align: top;\n",
       "    }\n",
       "\n",
       "    .dataframe thead th {\n",
       "        text-align: right;\n",
       "    }\n",
       "</style>\n",
       "<table border=\"1\" class=\"dataframe\">\n",
       "  <thead>\n",
       "    <tr style=\"text-align: right;\">\n",
       "      <th></th>\n",
       "      <th>1</th>\n",
       "      <th>2</th>\n",
       "      <th>3</th>\n",
       "      <th>4</th>\n",
       "      <th>avr</th>\n",
       "    </tr>\n",
       "  </thead>\n",
       "  <tbody>\n",
       "    <tr>\n",
       "      <th>a</th>\n",
       "      <td>-0.673723</td>\n",
       "      <td>0.970288</td>\n",
       "      <td>0.993942</td>\n",
       "      <td>0.707107</td>\n",
       "      <td>-0.673723</td>\n",
       "    </tr>\n",
       "    <tr>\n",
       "      <th>b</th>\n",
       "      <td>-0.621633</td>\n",
       "      <td>-0.867497</td>\n",
       "      <td>0.262298</td>\n",
       "      <td>1.000000</td>\n",
       "      <td>-0.329159</td>\n",
       "    </tr>\n",
       "    <tr>\n",
       "      <th>c</th>\n",
       "      <td>0.447795</td>\n",
       "      <td>-0.060367</td>\n",
       "      <td>-0.552277</td>\n",
       "      <td>0.707107</td>\n",
       "      <td>0.154149</td>\n",
       "    </tr>\n",
       "  </tbody>\n",
       "</table>\n",
       "</div>"
      ],
      "text/plain": [
       "          1         2         3         4       avr\n",
       "a -0.673723  0.970288  0.993942  0.707107 -0.673723\n",
       "b -0.621633 -0.867497  0.262298  1.000000 -0.329159\n",
       "c  0.447795 -0.060367 -0.552277  0.707107  0.154149"
      ]
     },
     "execution_count": 74,
     "metadata": {},
     "output_type": "execute_result"
    }
   ],
   "source": [
    "np.sin(data * np.pi / 4) "
   ]
  },
  {
   "cell_type": "code",
   "execution_count": 76,
   "metadata": {},
   "outputs": [
    {
     "data": {
      "text/plain": [
       "Alaska              NaN\n",
       "California    90.413926\n",
       "New York            NaN\n",
       "Texas         38.018740\n",
       "dtype: float64"
      ]
     },
     "execution_count": 76,
     "metadata": {},
     "output_type": "execute_result"
    }
   ],
   "source": [
    "# 对位索引进行计算：就是同个key，可以进行计算\n",
    "area = pd.Series({'Alaska': 1723337, 'Texas': 695662, \n",
    "                         'California': 423967}, name='area') \n",
    "population = pd.Series({'California': 38332521, 'Texas': 26448193, \n",
    "                               'New York': 19651127}, name='population')\n",
    "\n",
    "population / area # 索引求并集，如果两个对象的行列索引可以是不同顺序的，结果的索引会自动按顺序排列。\n",
    "A.add(B, fill_value=fill) # fill是A的均值，便是NaN用均值填充"
   ]
  },
  {
   "cell_type": "code",
   "execution_count": null,
   "metadata": {},
   "outputs": [],
   "source": [
    "# NaN 是一种特殊的浮点数，不是整数、字符串以及其他数据类型。\n",
    "# 可以把 NaN 看作是一个数据类病毒——它会将与它接触过的数据同化。无论和 NaN 进行何种操作，最终结果都是 NaN"
   ]
  },
  {
   "cell_type": "code",
   "execution_count": 77,
   "metadata": {},
   "outputs": [
    {
     "data": {
      "text/html": [
       "<div>\n",
       "<style scoped>\n",
       "    .dataframe tbody tr th:only-of-type {\n",
       "        vertical-align: middle;\n",
       "    }\n",
       "\n",
       "    .dataframe tbody tr th {\n",
       "        vertical-align: top;\n",
       "    }\n",
       "\n",
       "    .dataframe thead th {\n",
       "        text-align: right;\n",
       "    }\n",
       "</style>\n",
       "<table border=\"1\" class=\"dataframe\">\n",
       "  <thead>\n",
       "    <tr style=\"text-align: right;\">\n",
       "      <th></th>\n",
       "      <th></th>\n",
       "      <th>data1</th>\n",
       "      <th>data2</th>\n",
       "    </tr>\n",
       "  </thead>\n",
       "  <tbody>\n",
       "    <tr>\n",
       "      <th rowspan=\"2\" valign=\"top\">a</th>\n",
       "      <th>1</th>\n",
       "      <td>0.855088</td>\n",
       "      <td>0.126474</td>\n",
       "    </tr>\n",
       "    <tr>\n",
       "      <th>2</th>\n",
       "      <td>0.846651</td>\n",
       "      <td>0.270685</td>\n",
       "    </tr>\n",
       "    <tr>\n",
       "      <th rowspan=\"2\" valign=\"top\">b</th>\n",
       "      <th>1</th>\n",
       "      <td>0.212049</td>\n",
       "      <td>0.774503</td>\n",
       "    </tr>\n",
       "    <tr>\n",
       "      <th>2</th>\n",
       "      <td>0.261329</td>\n",
       "      <td>0.960601</td>\n",
       "    </tr>\n",
       "  </tbody>\n",
       "</table>\n",
       "</div>"
      ],
      "text/plain": [
       "        data1     data2\n",
       "a 1  0.855088  0.126474\n",
       "  2  0.846651  0.270685\n",
       "b 1  0.212049  0.774503\n",
       "  2  0.261329  0.960601"
      ]
     },
     "execution_count": 77,
     "metadata": {},
     "output_type": "execute_result"
    }
   ],
   "source": [
    "# 多维表格：index是多级的\n",
    "# pop.index.names = ['state', 'year'] ## 在处理复杂的数据时，为等级设置名称是管理多个索引值的好办法\n",
    "df = pd.DataFrame(np.random.rand(4, 2), \n",
    "                index=[['a', 'a', 'b', 'b'], [1, 2, 1, 2]], \n",
    "                columns=['data1', 'data2'])\n",
    "df\n"
   ]
  },
  {
   "cell_type": "code",
   "execution_count": 78,
   "metadata": {},
   "outputs": [
    {
     "data": {
      "text/plain": [
       "MultiIndex([('a', 1),\n",
       "            ('a', 2),\n",
       "            ('b', 1),\n",
       "            ('b', 2)],\n",
       "           )"
      ]
     },
     "execution_count": 78,
     "metadata": {},
     "output_type": "execute_result"
    }
   ],
   "source": [
    "## 创建index\n",
    "pd.MultiIndex.from_product([['a', 'b'], [1, 2]]) "
   ]
  },
  {
   "cell_type": "code",
   "execution_count": 82,
   "metadata": {},
   "outputs": [
    {
     "data": {
      "text/html": [
       "<div>\n",
       "<style scoped>\n",
       "    .dataframe tbody tr th:only-of-type {\n",
       "        vertical-align: middle;\n",
       "    }\n",
       "\n",
       "    .dataframe tbody tr th {\n",
       "        vertical-align: top;\n",
       "    }\n",
       "\n",
       "    .dataframe thead tr th {\n",
       "        text-align: left;\n",
       "    }\n",
       "\n",
       "    .dataframe thead tr:last-of-type th {\n",
       "        text-align: right;\n",
       "    }\n",
       "</style>\n",
       "<table border=\"1\" class=\"dataframe\">\n",
       "  <thead>\n",
       "    <tr>\n",
       "      <th></th>\n",
       "      <th>subject</th>\n",
       "      <th colspan=\"2\" halign=\"left\">Bob</th>\n",
       "      <th colspan=\"2\" halign=\"left\">Guido</th>\n",
       "      <th colspan=\"2\" halign=\"left\">Sue</th>\n",
       "    </tr>\n",
       "    <tr>\n",
       "      <th></th>\n",
       "      <th>type</th>\n",
       "      <th>HR</th>\n",
       "      <th>Temp</th>\n",
       "      <th>HR</th>\n",
       "      <th>Temp</th>\n",
       "      <th>HR</th>\n",
       "      <th>Temp</th>\n",
       "    </tr>\n",
       "    <tr>\n",
       "      <th>year</th>\n",
       "      <th>visit</th>\n",
       "      <th></th>\n",
       "      <th></th>\n",
       "      <th></th>\n",
       "      <th></th>\n",
       "      <th></th>\n",
       "      <th></th>\n",
       "    </tr>\n",
       "  </thead>\n",
       "  <tbody>\n",
       "    <tr>\n",
       "      <th rowspan=\"2\" valign=\"top\">2013</th>\n",
       "      <th>1</th>\n",
       "      <td>37.0</td>\n",
       "      <td>35.9</td>\n",
       "      <td>49.0</td>\n",
       "      <td>36.6</td>\n",
       "      <td>39.0</td>\n",
       "      <td>37.6</td>\n",
       "    </tr>\n",
       "    <tr>\n",
       "      <th>2</th>\n",
       "      <td>22.0</td>\n",
       "      <td>35.8</td>\n",
       "      <td>37.0</td>\n",
       "      <td>36.5</td>\n",
       "      <td>18.0</td>\n",
       "      <td>37.4</td>\n",
       "    </tr>\n",
       "    <tr>\n",
       "      <th rowspan=\"2\" valign=\"top\">2014</th>\n",
       "      <th>1</th>\n",
       "      <td>30.0</td>\n",
       "      <td>38.0</td>\n",
       "      <td>39.0</td>\n",
       "      <td>38.3</td>\n",
       "      <td>35.0</td>\n",
       "      <td>38.4</td>\n",
       "    </tr>\n",
       "    <tr>\n",
       "      <th>2</th>\n",
       "      <td>48.0</td>\n",
       "      <td>37.3</td>\n",
       "      <td>37.0</td>\n",
       "      <td>36.2</td>\n",
       "      <td>53.0</td>\n",
       "      <td>36.4</td>\n",
       "    </tr>\n",
       "  </tbody>\n",
       "</table>\n",
       "</div>"
      ],
      "text/plain": [
       "subject      Bob       Guido         Sue      \n",
       "type          HR  Temp    HR  Temp    HR  Temp\n",
       "year visit                                    \n",
       "2013 1      37.0  35.9  49.0  36.6  39.0  37.6\n",
       "     2      22.0  35.8  37.0  36.5  18.0  37.4\n",
       "2014 1      30.0  38.0  39.0  38.3  35.0  38.4\n",
       "     2      48.0  37.3  37.0  36.2  53.0  36.4"
      ]
     },
     "execution_count": 82,
     "metadata": {},
     "output_type": "execute_result"
    }
   ],
   "source": [
    "# 多级行列索引生成 \n",
    "index = pd.MultiIndex.from_product([[2013, 2014], [1, 2]], \n",
    "                                   names=['year', 'visit']) \n",
    "columns = pd.MultiIndex.from_product([['Bob', 'Guido', 'Sue'], ['HR', 'Temp']], \n",
    "                                     names=['subject', 'type']) \n",
    " \n",
    "# 模拟数据 \n",
    "data = np.round(np.random.randn(4, 6), 1) \n",
    "data[:, ::2] *= 10 \n",
    "data += 37 \n",
    " \n",
    "# 创建DataFrame \n",
    "health_data = pd.DataFrame(data, index=index, columns=columns) \n",
    "health_data "
   ]
  },
  {
   "cell_type": "code",
   "execution_count": 83,
   "metadata": {},
   "outputs": [
    {
     "data": {
      "text/html": [
       "<div>\n",
       "<style scoped>\n",
       "    .dataframe tbody tr th:only-of-type {\n",
       "        vertical-align: middle;\n",
       "    }\n",
       "\n",
       "    .dataframe tbody tr th {\n",
       "        vertical-align: top;\n",
       "    }\n",
       "\n",
       "    .dataframe thead tr th {\n",
       "        text-align: left;\n",
       "    }\n",
       "\n",
       "    .dataframe thead tr:last-of-type th {\n",
       "        text-align: right;\n",
       "    }\n",
       "</style>\n",
       "<table border=\"1\" class=\"dataframe\">\n",
       "  <thead>\n",
       "    <tr>\n",
       "      <th></th>\n",
       "      <th>subject</th>\n",
       "      <th>Bob</th>\n",
       "      <th>Guido</th>\n",
       "      <th>Sue</th>\n",
       "    </tr>\n",
       "    <tr>\n",
       "      <th></th>\n",
       "      <th>type</th>\n",
       "      <th>HR</th>\n",
       "      <th>HR</th>\n",
       "      <th>HR</th>\n",
       "    </tr>\n",
       "    <tr>\n",
       "      <th>year</th>\n",
       "      <th>visit</th>\n",
       "      <th></th>\n",
       "      <th></th>\n",
       "      <th></th>\n",
       "    </tr>\n",
       "  </thead>\n",
       "  <tbody>\n",
       "    <tr>\n",
       "      <th>2013</th>\n",
       "      <th>1</th>\n",
       "      <td>37.0</td>\n",
       "      <td>49.0</td>\n",
       "      <td>39.0</td>\n",
       "    </tr>\n",
       "    <tr>\n",
       "      <th>2014</th>\n",
       "      <th>1</th>\n",
       "      <td>30.0</td>\n",
       "      <td>39.0</td>\n",
       "      <td>35.0</td>\n",
       "    </tr>\n",
       "  </tbody>\n",
       "</table>\n",
       "</div>"
      ],
      "text/plain": [
       "subject      Bob Guido   Sue\n",
       "type          HR    HR    HR\n",
       "year visit                  \n",
       "2013 1      37.0  49.0  39.0\n",
       "2014 1      30.0  39.0  35.0"
      ]
     },
     "execution_count": 83,
     "metadata": {},
     "output_type": "execute_result"
    }
   ],
   "source": [
    "# 使用 IndexSlice 对象进行多维索引。Pandas 专门用它解决这类问题，例如：\n",
    "idx = pd.IndexSlice \n",
    "health_data.loc[idx[:, 1], idx[:, 'HR']] \n",
    "# 层级数据维度转换的另一种方法是行列标签转换，可以通过 reset_index 方法实现\n",
    "# pop.reset_index(name='population') "
   ]
  },
  {
   "cell_type": "code",
   "execution_count": 91,
   "metadata": {},
   "outputs": [
    {
     "data": {
      "text/plain": [
       "(subject   Bob        Guido          Sue      \n",
       " type       HR   Temp    HR   Temp    HR  Temp\n",
       " year                                         \n",
       " 2013     29.5  35.85  43.0  36.55  28.5  37.5\n",
       " 2014     39.0  37.65  38.0  37.25  44.0  37.4,\n",
       " type               HR       Temp\n",
       " year visit                      \n",
       " 2013 1      41.666667  36.700000\n",
       "      2      25.666667  36.566667\n",
       " 2014 1      34.666667  38.233333\n",
       "      2      46.000000  36.633333)"
      ]
     },
     "execution_count": 91,
     "metadata": {},
     "output_type": "execute_result"
    }
   ],
   "source": [
    "#计算\n",
    "## 可以设置参数 level 在计算函数中，实现对数据子集的操作\n",
    "## 可以设置参数 axis 计算行列计算，axis=0，计算的是行key，axis=1，计算的是列key的值\n",
    "data_mean = health_data.mean(level='year') \n",
    "data_mean1 = health_data.mean(axis = 1, level='type') \n",
    "data_mean, data_mean1"
   ]
  },
  {
   "cell_type": "code",
   "execution_count": 96,
   "metadata": {},
   "outputs": [
    {
     "name": "stdout",
     "output_type": "stream",
     "text": [
      "    A   B\n",
      "0  A0  B0\n",
      "1  A1  B1\n",
      "    C   D\n",
      "0  C0  D0\n",
      "1  C1  D1\n",
      "     A    B    C    D\n",
      "0   A0   B0  NaN  NaN\n",
      "1   A1   B1  NaN  NaN\n",
      "0  NaN  NaN   C0   D0\n",
      "1  NaN  NaN   C1   D1\n",
      "    A   B   C   D\n",
      "0  A0  B0  C0  D0\n",
      "1  A1  B1  C1  D1\n"
     ]
    }
   ],
   "source": [
    "# 简单构建\n",
    "def make_df(cols, ind): \n",
    "    \"\"\"一个简单的DataFrame\"\"\" \n",
    "    data = {c: [str(c) + str(i) for i in ind] \n",
    "            for c in cols} \n",
    "    return pd.DataFrame(data, ind) \n",
    "\n",
    "# DataFrame示例 \n",
    "make_df('ABC', range(3)) \n",
    "\n",
    "df3 = make_df('AB', [0, 1]) \n",
    "df4 = make_df('CD', [0, 1]) \n",
    "\n",
    "# 有重复的就合并，不然另开空间\n",
    "print(df3); print(df4); print(pd.concat([df3, df4], axis=0)); print(pd.concat([df3, df4], axis=1)) "
   ]
  },
  {
   "cell_type": "code",
   "execution_count": 99,
   "metadata": {},
   "outputs": [
    {
     "data": {
      "text/html": [
       "<div>\n",
       "<style scoped>\n",
       "    .dataframe tbody tr th:only-of-type {\n",
       "        vertical-align: middle;\n",
       "    }\n",
       "\n",
       "    .dataframe tbody tr th {\n",
       "        vertical-align: top;\n",
       "    }\n",
       "\n",
       "    .dataframe thead th {\n",
       "        text-align: right;\n",
       "    }\n",
       "</style>\n",
       "<table border=\"1\" class=\"dataframe\">\n",
       "  <thead>\n",
       "    <tr style=\"text-align: right;\">\n",
       "      <th></th>\n",
       "      <th>A</th>\n",
       "      <th>B</th>\n",
       "    </tr>\n",
       "  </thead>\n",
       "  <tbody>\n",
       "    <tr>\n",
       "      <th>0</th>\n",
       "      <td>A0</td>\n",
       "      <td>B0</td>\n",
       "    </tr>\n",
       "    <tr>\n",
       "      <th>1</th>\n",
       "      <td>A1</td>\n",
       "      <td>B1</td>\n",
       "    </tr>\n",
       "    <tr>\n",
       "      <th>2</th>\n",
       "      <td>A0</td>\n",
       "      <td>B0</td>\n",
       "    </tr>\n",
       "    <tr>\n",
       "      <th>3</th>\n",
       "      <td>A1</td>\n",
       "      <td>B1</td>\n",
       "    </tr>\n",
       "  </tbody>\n",
       "</table>\n",
       "</div>"
      ],
      "text/plain": [
       "    A   B\n",
       "0  A0  B0\n",
       "1  A1  B1\n",
       "2  A0  B0\n",
       "3  A1  B1"
      ]
     },
     "execution_count": 99,
     "metadata": {},
     "output_type": "execute_result"
    }
   ],
   "source": [
    "## 如果不需要的话，需要将verify_integrity 参数设置为 True，重复就会报错\n",
    "## 有时索引无关紧要，那么合并时就可以忽略它们，可以通过设置 ignore_index 参数来实现\n",
    "df4 = make_df('AB', [0, 1]) \n",
    "pd.concat([df3, df4], ignore_index=True) "
   ]
  },
  {
   "cell_type": "code",
   "execution_count": 100,
   "metadata": {},
   "outputs": [
    {
     "name": "stdout",
     "output_type": "stream",
     "text": [
      "      A   B\n",
      "x 0  A0  B0\n",
      "  1  A1  B1\n",
      "y 0  A0  B0\n",
      "  1  A1  B1\n"
     ]
    }
   ],
   "source": [
    "## ! 另一种处理索引重复的方法是通过 keys 参数为数据源设置多级索引标签，这样结果数据就会带上多级索引：\n",
    "print(pd.concat([df3, df4], keys=['x', 'y'])) "
   ]
  },
  {
   "cell_type": "code",
   "execution_count": 108,
   "metadata": {},
   "outputs": [
    {
     "name": "stdout",
     "output_type": "stream",
     "text": [
      "    B\n",
      "0  B0\n",
      "1  B1\n",
      "0  B0\n",
      "1  B1\n",
      "     A   B    C\n",
      "0   A0  B0  NaN\n",
      "1   A1  B1  NaN\n",
      "0  NaN  B0   C0\n",
      "1  NaN  B1   C1\n"
     ]
    }
   ],
   "source": [
    "# 默认的合并方式是对所有输入列进行并集合并（join='outer'） ，\n",
    "# 当然也可以用 join='inner' 实现对输入列的交集合并\n",
    "df3 = make_df('AB', [0, 1]) \n",
    "df4 = make_df('BC', [0, 1]) \n",
    "print(pd.concat([df3, df4], join='inner'));\n",
    "print(pd.concat([df3, df4], join='outer'))"
   ]
  },
  {
   "cell_type": "code",
   "execution_count": null,
   "metadata": {},
   "outputs": [],
   "source": [
    "# Pandas 的 append() 不\n",
    "# 直接更新原有对象的值，而是为合并后的数据创建一个新对象。因此，它不能被称之为一\n",
    "# 个非常高效的解决方案，因为每次合并都需要重新创建索引和数据缓存。总之，如果你需\n",
    "# 要进行多个 append 操作，还是建议先创建一个 DataFrame 列表，然后用 concat() 函数一次\n",
    "# 性解决所有合并任务。"
   ]
  },
  {
   "cell_type": "code",
   "execution_count": 6,
   "metadata": {},
   "outputs": [
    {
     "data": {
      "text/plain": [
       "(array([[0.55888651, 0.1926415 , 0.05577748],\n",
       "        [0.7258802 , 0.10407722, 0.54523658]]),\n",
       " array([[0.83495295, 0.51410551, 0.61511304],\n",
       "        [0.1499736 , 0.62341923, 0.67347409]]),\n",
       " array([[0.46664394, 0.09903806, 0.03430945],\n",
       "        [0.10886287, 0.06488374, 0.36720271]]))"
      ]
     },
     "execution_count": 6,
     "metadata": {},
     "output_type": "execute_result"
    }
   ],
   "source": [
    "import numpy as np\n",
    "a = np.random.rand(3,2,3)\n",
    "b = np.random.rand(3,2,3)\n",
    "pro = a*b\n",
    "a[0], b[0], pro[0]"
   ]
  }
 ],
 "metadata": {
  "kernelspec": {
   "display_name": "Python 3.8.11 ('DLtorch-py38')",
   "language": "python",
   "name": "python3"
  },
  "language_info": {
   "codemirror_mode": {
    "name": "ipython",
    "version": 3
   },
   "file_extension": ".py",
   "mimetype": "text/x-python",
   "name": "python",
   "nbconvert_exporter": "python",
   "pygments_lexer": "ipython3",
   "version": "3.8.11"
  },
  "orig_nbformat": 2,
  "vscode": {
   "interpreter": {
    "hash": "e0f4871174d17c2bcac589796388e07be3c0794fb1edf9d00f099d67ef52f7ad"
   }
  }
 },
 "nbformat": 4,
 "nbformat_minor": 2
}
