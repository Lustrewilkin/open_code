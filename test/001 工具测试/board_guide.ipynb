{
 "metadata": {
  "language_info": {
   "codemirror_mode": {
    "name": "ipython",
    "version": 3
   },
   "file_extension": ".py",
   "mimetype": "text/x-python",
   "name": "python",
   "nbconvert_exporter": "python",
   "pygments_lexer": "ipython3",
   "version": "3.8.10"
  },
  "orig_nbformat": 2,
  "kernelspec": {
   "name": "python3810jvsc74a57bd017df5e0dbd28e3de4a377cfa55fc96f308325d7152f8bc5af8ae2e74f866f3ef",
   "display_name": "Python 3.8.10 64-bit ('DLtorch-py38': conda)"
  }
 },
 "nbformat": 4,
 "nbformat_minor": 2,
 "cells": [
  {
   "cell_type": "code",
   "execution_count": 3,
   "metadata": {},
   "outputs": [],
   "source": [
    "from torch.utils.tensorboard import SummaryWriter\n",
    "\n",
    "writer = SummaryWriter('E:\\\\CODEBASE\\\\myDGL\\\\FirstDGL\\\\Journal')"
   ]
  },
  {
   "cell_type": "code",
   "execution_count": 13,
   "metadata": {},
   "outputs": [],
   "source": [
    "for i in range(3):\n",
    "    a = torch.Tensor([i])"
   ]
  },
  {
   "cell_type": "code",
   "execution_count": 1,
   "metadata": {},
   "outputs": [
    {
     "output_type": "execute_result",
     "data": {
      "text/plain": [
       "True"
      ]
     },
     "metadata": {},
     "execution_count": 1
    }
   ],
   "source": [
    "# tensorboard --logdir E:\\CODEBASE\\myDGL\\FirstDGL\\Journal\\GNN2\n",
    "import torch\n",
    "torch.cuda.is_available()"
   ]
  },
  {
   "cell_type": "code",
   "execution_count": 7,
   "metadata": {},
   "outputs": [],
   "source": [
    "import torch\n",
    "\n",
    "for i in range(100):\n",
    "    # MetaTag/Name 会自动吧同一个Meta 图结合在一起，scalar也可以接受字典\n",
    "    i1 = torch.Tensor([i])\n",
    "    writer.add_scalars('Loss/sanjiao', {'sin':torch.sin(i1/5.0)}, i)\n",
    "    writer.add_scalars('Loss/sanjiao', {'cos':torch.sin(i1/5.0)}, i)"
   ]
  },
  {
   "cell_type": "code",
   "execution_count": 21,
   "metadata": {},
   "outputs": [],
   "source": [
    "for i in torch.arange(10):\n",
    "     mean = torch.sin(i/2.0)\n",
    "     random_w = torch.normal(mean, 0.1, (100,))\n",
    "     writer.add_histogram('Weights/w1', random_w, i)"
   ]
  },
  {
   "cell_type": "code",
   "execution_count": 25,
   "metadata": {},
   "outputs": [],
   "source": [
    "from sklearn.manifold import TSNE\n",
    "import matplotlib.pyplot as plt\n",
    "import matplotlib\n",
    "import numpy as np\n",
    "batch = np.random.rand(64, 28*28)\n",
    "label = np.random.randint(low = 1, high = 10, size = (64,1))\n",
    "\n",
    "embedding =TSNE(2).fit_transform(batch)\n",
    "\n",
    "fig = plt.figure(figsize=(5,5))\n",
    "cmap = plt.cm.hsv\n",
    "norm = matplotlib.colors.BoundaryNorm(np.arange(0,12), cmap.N)\n",
    "plt.scatter(embedding[:,0], embedding[:,1], s= 10,\n",
    "            c= label, edgecolors= 'k', linewidths= 1, alpha= 1,\n",
    "            cmap= cmap, norm= norm)\n",
    "\n",
    "writer.add_figure('Embedding/random', fig, 0)"
   ]
  },
  {
   "cell_type": "code",
   "execution_count": 1,
   "metadata": {},
   "outputs": [
    {
     "output_type": "stream",
     "name": "stdout",
     "text": [
      "3\n"
     ]
    }
   ],
   "source": [
    "a = 3\n",
    "if a == 1:\n",
    "    print(a)\n",
    "elif a == 2:\n",
    "    print(a)\n",
    "elif a == 3:\n",
    "    print(a)"
   ]
  }
 ]
}