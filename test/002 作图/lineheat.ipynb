{
 "cells": [
  {
   "cell_type": "code",
   "execution_count": 2,
   "metadata": {},
   "outputs": [],
   "source": [
    "import math\n",
    "import matplotlib.pyplot as plt\n",
    "import numpy as np\n",
    "import pandas as pd"
   ]
  },
  {
   "cell_type": "code",
   "execution_count": null,
   "metadata": {},
   "outputs": [],
   "source": [
    "plt.figure(dpi=120)\n",
    "x = range(0,100)\n",
    "y = np.random.random(100)\n",
    "plt.plot(x, y, color='red',  label='random(x)')\n",
    "plt.legend() #绘制图例\n",
    "plt.xlabel('x')\n",
    "plt.ylabel('f(x)')"
   ]
  },
  {
   "cell_type": "code",
   "execution_count": 3,
   "metadata": {},
   "outputs": [],
   "source": [
    "def heatmap(data, row_labels, col_labels, ax=None,\n",
    "            cbar_kw={}, cbarlabel=\"\", **kwargs):\n",
    "    \"\"\"\n",
    "    Create a heatmap from a numpy array and two lists of labels.\n",
    "\n",
    "    Parameters\n",
    "    ----------\n",
    "    data\n",
    "        A 2D numpy array of shape (N, M).\n",
    "    row_labels\n",
    "        A list or array of length N with the labels for the rows.\n",
    "    col_labels\n",
    "        A list or array of length M with the labels for the columns.\n",
    "    ax\n",
    "        A `matplotlib.axes.Axes` instance to which the heatmap is plotted.  If\n",
    "        not provided, use current axes or create a new one.  Optional.\n",
    "    cbar_kw\n",
    "        A dictionary with arguments to `matplotlib.Figure.colorbar`.  Optional.\n",
    "    cbarlabel\n",
    "        The label for the colorbar.  Optional.\n",
    "    **kwargs\n",
    "        All other arguments are forwarded to `imshow`.\n",
    "    \"\"\"\n",
    "\n",
    "    if not ax:\n",
    "        ax = plt.gca()\n",
    "\n",
    "    # Plot the heatmap\n",
    "    im = ax.imshow(data, **kwargs)\n",
    "\n",
    "    # Create colorbar\n",
    "    cbar = ax.figure.colorbar(im, ax=ax, **cbar_kw)\n",
    "    cbar.ax.set_ylabel(cbarlabel, rotation=-90, va=\"bottom\")\n",
    "\n",
    "    # We want to show all ticks...\n",
    "    ax.set_xticks(np.arange(data.shape[1]))\n",
    "    ax.set_yticks(np.arange(data.shape[0]))\n",
    "    # ... and label them with the respective list entries.\n",
    "    ax.set_xticklabels(col_labels)\n",
    "    ax.set_yticklabels(row_labels)\n",
    "\n",
    "    # Let the horizontal axes labeling appear on top.\n",
    "    ax.tick_params(top=True, bottom=False,\n",
    "                   labeltop=True, labelbottom=False) \n",
    "\n",
    "    # Rotate the tick labels and set their alignment.\n",
    "    plt.setp(ax.get_xticklabels(), rotation=-30, ha=\"right\",\n",
    "             rotation_mode=\"anchor\")\n",
    "\n",
    "    # Turn spines off and create white grid.\n",
    "    # ax.spines[:].set_visible(False)\n",
    "    ax.spines['top'].set_visible(False) #去掉上边框\n",
    "    ax.spines['bottom'].set_visible(False) #去掉下边框\n",
    "    ax.spines['left'].set_visible(False) #去掉左边框\n",
    "    ax.spines['right'].set_visible(False) #去掉右边框\n",
    "\n",
    "\n",
    "    ax.set_xticks(np.arange(data.shape[1]+1)-.5, minor=True)\n",
    "    ax.set_yticks(np.arange(data.shape[0]+1)-.5, minor=True)\n",
    "    ax.grid(which=\"minor\", color=\"w\", linestyle='-', linewidth=3)\n",
    "    ax.tick_params(which=\"minor\", bottom=False, left=False)\n",
    "\n",
    "    return im, cbar"
   ]
  },
  {
   "cell_type": "code",
   "execution_count": null,
   "metadata": {},
   "outputs": [],
   "source": [
    "fig, ax = plt.subplots(dpi = 200)\n",
    "data = np.random.random([2,10])\n",
    "im = ax.imshow(data, cmap = 'viridis')"
   ]
  },
  {
   "cell_type": "code",
   "execution_count": null,
   "metadata": {},
   "outputs": [],
   "source": [
    "import seaborn as sns\n",
    "uniform_data = np.random.randn(2, 12)\n",
    "ax = sns.heatmap(uniform_data, center=0, cmap=\"YlGnBu\")\n"
   ]
  },
  {
   "cell_type": "code",
   "execution_count": null,
   "metadata": {},
   "outputs": [],
   "source": [
    "p = [1,2,3]\n",
    "for i in range(3) :\n",
    "    p[i] = 'c'+str(i)\n",
    "p"
   ]
  },
  {
   "cell_type": "code",
   "execution_count": null,
   "metadata": {},
   "outputs": [],
   "source": [
    "signal = np.random.randn(2,12)\n",
    "cam = np.random.randn(2,12)\n",
    "chn_num = signal.shape[0]\n",
    "# channel = np.reshape(np.arange(1, chn_num+1), [-1,1])\n",
    "channel = list(range(1, chn_num+1))\n",
    "for i in range(1, chn_num+1):\n",
    "    channel[i-1] = 'c'+ str(i)\n",
    "time = np.arange(1,signal.shape[1]+1)\n",
    "time = np.reshape(time, [1,signal.shape[1]])\n",
    "\n",
    "# signal = np.expand_dims(signal, axis=0)\n",
    "# cam = np.expand_dims(cam, axis=0)\n",
    "# time = np.expand_dims(time, axis=0)\n",
    "data = np.concatenate((signal, cam),axis=0)\n",
    "df = pd.DataFrame(data=data.T, columns = pd.MultiIndex.from_product([['signal', 'cam'], channel]))\n",
    "df['time'] = time.T.astype(np.float16)\n",
    "df\n",
    "# data"
   ]
  },
  {
   "cell_type": "code",
   "execution_count": null,
   "metadata": {},
   "outputs": [],
   "source": [
    "['c1','c2']\n",
    "aa = df['signal','c1'].values\n",
    "aa = np.reshape(aa, (12,1))\n",
    "aa"
   ]
  },
  {
   "cell_type": "code",
   "execution_count": null,
   "metadata": {},
   "outputs": [],
   "source": [
    "x= np.linspace(0.5,11.5,12)\n",
    "x"
   ]
  },
  {
   "cell_type": "code",
   "execution_count": null,
   "metadata": {},
   "outputs": [],
   "source": [
    "a = np.reshape(df['cam','c1'].values, (1,12))\n",
    "ax = sns.heatmap(a, center=0, cmap=\"YlGnBu\", yticklabels=['c1'])\n",
    "a = np.reshape(df['cam','c2'].values, (1,12))\n",
    "ax3 = sns.heatmap(a, center=0, cmap=\"YlGnBu\", yticklabels=['c2'])\n",
    "ax3 = ax.twinx()\n",
    "ax2 = ax.twinx()\n",
    "ax2 = sns.lineplot(x= np.linspace(0.5,11.5,12), y = 'c1',data=df['signal'], color='red', sort=False)\n",
    "plt.ylim(-3,3)\n",
    "plt.show()"
   ]
  },
  {
   "cell_type": "code",
   "execution_count": null,
   "metadata": {},
   "outputs": [],
   "source": [
    "fig, (ax1, ax2) = plt.subplots(2, 1, sharex=True, sharey=True, dpi = 200)\n",
    "a = np.reshape(df['cam','c1'].values, (1,12))\n",
    "ax11 = sns.heatmap(a, center=0, cmap=\"YlGnBu\", yticklabels=['c1'])\n",
    "ax12 = sns.lineplot(x= np.linspace(0.5,11.5,12), y = 'c1',data=df['signal'], color='red', sort=False)\n",
    "ax12 = ax11.twinx()\n",
    "ax1.imshow(ax11)\n",
    "ax1.imshow(ax12)\n",
    "\n",
    "a = np.reshape(df['cam','c2'].values, (1,12))\n",
    "ax2 = sns.heatmap(a, center=0, cmap=\"YlGnBu\", yticklabels=['c2'])\n",
    "ax21 = ax2.twinx()\n",
    "ax21 = sns.lineplot(x= np.linspace(0.5,11.5,12), y = 'c2',data=df['signal'], color='red', sort=False)\n",
    "plt.ylim(-3,3)\n",
    "plt.subplots_adjust(wspace=0, hspace=0)\n",
    "plt.show()"
   ]
  },
  {
   "cell_type": "code",
   "execution_count": null,
   "metadata": {},
   "outputs": [],
   "source": [
    "fig = plt.figure() \n",
    "ax1 = fig.add_axes([0.1, 0.5, 0.8, 0.4], \n",
    "                    xticklabels=[], ylim=(-3, 3)) \n",
    "ax1.set(ylabel='c1')\n",
    "ax2 = fig.add_axes([0.1, 0.1, 0.8, 0.4], \n",
    "                    ylim=(-10, 10))\n",
    "a = np.reshape(df['cam','c1'].values, (1,12))\n",
    "im = ax1.imshow(a, cmap = 'seismic', aspect='auto',extent=(0,12,-3,3),interpolation= 'bilinear')\n",
    "ax1.plot(np.linspace(0.5,11.5,12), df['signal','c1'], color = 'green')\n",
    "\n",
    "im = ax2.imshow(a, cmap = 'seismic', aspect='auto',extent=(0,12,-3,3))\n",
    "ax2.plot(np.linspace(0.5,11.5,12), df['signal','c1'], color = 'green')\n",
    "plt.show()"
   ]
  },
  {
   "cell_type": "code",
   "execution_count": 4,
   "metadata": {},
   "outputs": [],
   "source": [
    "def line_heatmap(y_line, y_heat, y_name, fig, i):\n",
    "    \"\"\"\n",
    "        用于画折线-热力图\n",
    "        y_line,y_heat 为 np.array, shape = [-1] or [1,-1]\n",
    "    \"\"\"\n",
    "    ylim=(-30, 30) # -3,3 根据情况还得改\n",
    "    ax1 = fig.add_axes([0.1, 0.1+i*0.45, 2.4, 0.4], \n",
    "                    xticklabels=[], ylim=ylim) \n",
    "    ax1.set(ylabel='c{0}'.format(i))\n",
    "\n",
    "    y_heat = np.reshape(y_heat,(1,-1))\n",
    "    y_line = np.reshape(y_line,(-1,1))\n",
    "    # im = ax1.imshow(y_heat, cmap = 'viridis', aspect='auto',extent=(0,y_heat.shape[1],ylim[0],ylim[1]),interpolation= 'bilinear')\n",
    "    im = ax1.imshow(y_heat, cmap = 'viridis', aspect='auto',extent=(0,y_heat.shape[1],ylim[0],ylim[1]))\n",
    "    lens = y_heat.shape[1]\n",
    "    ax1.plot(np.linspace(0.5,lens-0.5,lens), y_line, color = 'red')\n",
    "    # ax1.spines['bottom'].set_visible(False) #去掉下边框\n",
    "    ax1.set_xticks([])\n",
    "\n",
    "    ax1.figure.colorbar(im, ax=ax1)\n",
    "    # cbar.ax.set_ylabel(cbarlabel, rotation=-90, va=\"bottom\")"
   ]
  },
  {
   "cell_type": "code",
   "execution_count": null,
   "metadata": {},
   "outputs": [],
   "source": [
    "fig = plt.figure() \n",
    "for i in range(4):\n",
    "    signal = np.random.randn(1,22)\n",
    "    cam = np.random.randn(1,22)\n",
    "    line_heatmap(y_line=signal, y_heat=cam, y_name='c{0}'.format(i), fig=fig, i=i)\n",
    "plt.show()"
   ]
  },
  {
   "cell_type": "markdown",
   "metadata": {},
   "source": [
    "# 实际操作"
   ]
  },
  {
   "cell_type": "code",
   "execution_count": 5,
   "metadata": {},
   "outputs": [],
   "source": [
    "data = np.load('E:\\\\DATABASE\\\\FirstGNN\\\\signal\\\\signal.npy', allow_pickle=True)\n",
    "n_data = data[0, 0] #dzq 的数据\n",
    "# for j in range(n_data.shape[0]): # 分类数目\n",
    "    # n1 = n_data[j, 0] "
   ]
  },
  {
   "cell_type": "code",
   "execution_count": 6,
   "metadata": {},
   "outputs": [],
   "source": [
    "data2 = np.load('E:\\\\DATABASE\\\\FirstGNN\\\\CT\\\\CT-GNN-5.npz')\n",
    "\n",
    "# cam = data2['cam_list']\n",
    "# cam.shape"
   ]
  },
  {
   "cell_type": "code",
   "execution_count": 29,
   "metadata": {},
   "outputs": [
    {
     "data": {
      "text/plain": [
       "numpy.lib.npyio.NpzFile"
      ]
     },
     "execution_count": 29,
     "metadata": {},
     "output_type": "execute_result"
    }
   ],
   "source": [
    "type(data2)"
   ]
  },
  {
   "cell_type": "code",
   "execution_count": 14,
   "metadata": {},
   "outputs": [],
   "source": [
    "cam = data2['n_cam_list']"
   ]
  },
  {
   "cell_type": "code",
   "execution_count": 9,
   "metadata": {},
   "outputs": [
    {
     "data": {
      "text/plain": [
       "(1875, 18, 128)"
      ]
     },
     "execution_count": 9,
     "metadata": {},
     "output_type": "execute_result"
    }
   ],
   "source": [
    "cam.shape"
   ]
  },
  {
   "cell_type": "code",
   "execution_count": 15,
   "metadata": {},
   "outputs": [],
   "source": [
    "mask = cam>0\n",
    "cam = mask*cam"
   ]
  },
  {
   "cell_type": "code",
   "execution_count": 16,
   "metadata": {},
   "outputs": [],
   "source": [
    "def normalization(data):\n",
    "    _range = np.max(data) - np.min(data)\n",
    "    return (data - np.min(data)) / _range"
   ]
  },
  {
   "cell_type": "code",
   "execution_count": 17,
   "metadata": {},
   "outputs": [],
   "source": [
    "cam = normalization(cam)"
   ]
  },
  {
   "cell_type": "code",
   "execution_count": 13,
   "metadata": {},
   "outputs": [
    {
     "data": {
      "text/plain": [
       "(18, 384)"
      ]
     },
     "execution_count": 13,
     "metadata": {},
     "output_type": "execute_result"
    }
   ],
   "source": [
    "ad = np.concatenate((cam[0],cam[1],cam[2]), axis=1)\n",
    "ad.shape"
   ]
  },
  {
   "cell_type": "code",
   "execution_count": 10,
   "metadata": {},
   "outputs": [],
   "source": [
    "label_list = data2['label_list']"
   ]
  },
  {
   "cell_type": "code",
   "execution_count": 11,
   "metadata": {},
   "outputs": [
    {
     "data": {
      "text/plain": [
       "(1875, 1, 5)"
      ]
     },
     "execution_count": 11,
     "metadata": {},
     "output_type": "execute_result"
    }
   ],
   "source": [
    "logits_list = data2['logits_list']\n",
    "logits_list.shape"
   ]
  },
  {
   "cell_type": "code",
   "execution_count": 12,
   "metadata": {},
   "outputs": [
    {
     "data": {
      "text/plain": [
       "(1875, 1)"
      ]
     },
     "execution_count": 12,
     "metadata": {},
     "output_type": "execute_result"
    }
   ],
   "source": [
    "result = np.argmax(logits_list, axis=2)\n",
    "result.shape"
   ]
  },
  {
   "cell_type": "code",
   "execution_count": 45,
   "metadata": {},
   "outputs": [
    {
     "data": {
      "text/plain": [
       "array([0], dtype=int64)"
      ]
     },
     "execution_count": 45,
     "metadata": {},
     "output_type": "execute_result"
    }
   ],
   "source": [
    "result[1]"
   ]
  },
  {
   "cell_type": "code",
   "execution_count": 19,
   "metadata": {},
   "outputs": [
    {
     "data": {
      "text/plain": [
       "(1875, 1, 1)"
      ]
     },
     "execution_count": 19,
     "metadata": {},
     "output_type": "execute_result"
    }
   ],
   "source": [
    "label_list.shape"
   ]
  },
  {
   "cell_type": "code",
   "execution_count": 47,
   "metadata": {},
   "outputs": [
    {
     "data": {
      "text/plain": [
       "array([0, 2])"
      ]
     },
     "execution_count": 47,
     "metadata": {},
     "output_type": "execute_result"
    }
   ],
   "source": [
    "a = np.array([1,2])\n",
    "b = np.array([3,4])\n",
    "np.concatenate((a,b),axis = 0) \n",
    "mask = a>1\n",
    "a = a*mask\n",
    "a"
   ]
  },
  {
   "cell_type": "code",
   "execution_count": 22,
   "metadata": {},
   "outputs": [
    {
     "data": {
      "text/plain": [
       "((101, 1), (18, 244), (244,))"
      ]
     },
     "execution_count": 22,
     "metadata": {},
     "output_type": "execute_result"
    }
   ],
   "source": [
    "n1 = n_data[0,0]\n",
    "n11 = n1[0,0]\n",
    "dn = n11[0,:]\n",
    "n1.shape,n11.shape, dn.shape"
   ]
  },
  {
   "cell_type": "code",
   "execution_count": 25,
   "metadata": {},
   "outputs": [
    {
     "data": {
      "text/plain": [
       "((101, 1), (5, 1))"
      ]
     },
     "execution_count": 25,
     "metadata": {},
     "output_type": "execute_result"
    }
   ],
   "source": [
    "n1.shape,n_data.shape"
   ]
  },
  {
   "cell_type": "code",
   "execution_count": 42,
   "metadata": {},
   "outputs": [
    {
     "data": {
      "text/plain": [
       "<Figure size 432x288 with 0 Axes>"
      ]
     },
     "metadata": {},
     "output_type": "display_data"
    }
   ],
   "source": [
    "fig = plt.figure() \n",
    "for j in range(n_data.shape[0]):#n_data.shape[0]): # 分类数目\n",
    "# j=2\n",
    "    n1 = n_data[j,0] # 1-level\n",
    "    if n1.shape[0]>125:\n",
    "        n1_num = 125\n",
    "    else:\n",
    "        n1_num = n1.shape[0]\n",
    "    for k in range(n1_num):#n1.shape[0]):\n",
    "        n11 = n1[k,0] # 2-level\n",
    "        it = int(j*375 + k*3)\n",
    "        cam1 = np.concatenate((cam[it], cam[it+1],cam[it+2]),axis = 1)\n",
    "        for i in range(18):# n11.shape[0]): # 行的部分，cam 与 signal一致\n",
    "            if n11.shape[1]>cam1.shape[1]:\n",
    "                end_trick1 = cam1.shape[1]\n",
    "            else:\n",
    "                end_trick1 = n11.shape[1]\n",
    "            line_heatmap(y_line=n11[i,0:end_trick1], y_heat=cam1[i,0:end_trick1], y_name='c{0}'.format((i+1)), fig=fig, i=i)\n",
    "        if label_list[it][0,0] == result[it][0]:\n",
    "            istrue = 'T'\n",
    "        else:\n",
    "            istrue = 'F'\n",
    "        namestr = 'lb{0}_num{1}_{2}'.format(label_list[it][0,0], k, istrue)\n",
    "        # plt.show()\n",
    "        f = plt.gcf()\n",
    "        f.savefig('E:\\\\DATABASE\\\\FirstGNN\\\\cam\\\\line_heat\\\\dzq\\\\f0\\\\{0}.png'.format(namestr), facecolor='white',dpi=200, bbox_inches='tight',transparent=False)\n",
    "        f.clear()"
   ]
  },
  {
   "cell_type": "code",
   "execution_count": 28,
   "metadata": {},
   "outputs": [
    {
     "data": {
      "text/plain": [
       "(30, 1)"
      ]
     },
     "execution_count": 28,
     "metadata": {},
     "output_type": "execute_result"
    }
   ],
   "source": [
    "n_data[2,0].shape"
   ]
  },
  {
   "cell_type": "code",
   "execution_count": 35,
   "metadata": {},
   "outputs": [],
   "source": [
    "lali = pd.DataFrame(np.reshape(label_list,[-1,1]))"
   ]
  },
  {
   "cell_type": "code",
   "execution_count": 36,
   "metadata": {},
   "outputs": [
    {
     "data": {
      "text/html": [
       "<div>\n",
       "<style scoped>\n",
       "    .dataframe tbody tr th:only-of-type {\n",
       "        vertical-align: middle;\n",
       "    }\n",
       "\n",
       "    .dataframe tbody tr th {\n",
       "        vertical-align: top;\n",
       "    }\n",
       "\n",
       "    .dataframe thead th {\n",
       "        text-align: right;\n",
       "    }\n",
       "</style>\n",
       "<table border=\"1\" class=\"dataframe\">\n",
       "  <thead>\n",
       "    <tr style=\"text-align: right;\">\n",
       "      <th></th>\n",
       "      <th>0</th>\n",
       "    </tr>\n",
       "  </thead>\n",
       "  <tbody>\n",
       "    <tr>\n",
       "      <th>count</th>\n",
       "      <td>1875.000000</td>\n",
       "    </tr>\n",
       "    <tr>\n",
       "      <th>mean</th>\n",
       "      <td>2.000000</td>\n",
       "    </tr>\n",
       "    <tr>\n",
       "      <th>std</th>\n",
       "      <td>1.414591</td>\n",
       "    </tr>\n",
       "    <tr>\n",
       "      <th>min</th>\n",
       "      <td>0.000000</td>\n",
       "    </tr>\n",
       "    <tr>\n",
       "      <th>25%</th>\n",
       "      <td>1.000000</td>\n",
       "    </tr>\n",
       "    <tr>\n",
       "      <th>50%</th>\n",
       "      <td>2.000000</td>\n",
       "    </tr>\n",
       "    <tr>\n",
       "      <th>75%</th>\n",
       "      <td>3.000000</td>\n",
       "    </tr>\n",
       "    <tr>\n",
       "      <th>max</th>\n",
       "      <td>4.000000</td>\n",
       "    </tr>\n",
       "  </tbody>\n",
       "</table>\n",
       "</div>"
      ],
      "text/plain": [
       "                 0\n",
       "count  1875.000000\n",
       "mean      2.000000\n",
       "std       1.414591\n",
       "min       0.000000\n",
       "25%       1.000000\n",
       "50%       2.000000\n",
       "75%       3.000000\n",
       "max       4.000000"
      ]
     },
     "execution_count": 36,
     "metadata": {},
     "output_type": "execute_result"
    }
   ],
   "source": [
    "lali.describe()"
   ]
  },
  {
   "cell_type": "code",
   "execution_count": 37,
   "metadata": {},
   "outputs": [],
   "source": [
    "lb1d = np.reshape(label_list,-1)"
   ]
  },
  {
   "cell_type": "code",
   "execution_count": 41,
   "metadata": {},
   "outputs": [
    {
     "data": {
      "text/plain": [
       "(array([1125, 1126, 1127, 1128, 1129, 1130, 1131, 1132, 1133, 1134, 1135,\n",
       "        1136, 1137, 1138, 1139, 1140, 1141, 1142, 1143, 1144, 1145, 1146,\n",
       "        1147, 1148, 1149, 1150, 1151, 1152, 1153, 1154, 1155, 1156, 1157,\n",
       "        1158, 1159, 1160, 1161, 1162, 1163, 1164, 1165, 1166, 1167, 1168,\n",
       "        1169, 1170, 1171, 1172, 1173, 1174, 1175, 1176, 1177, 1178, 1179,\n",
       "        1180, 1181, 1182, 1183, 1184, 1185, 1186, 1187, 1188, 1189, 1190,\n",
       "        1191, 1192, 1193, 1194, 1195, 1196, 1197, 1198, 1199, 1200, 1201,\n",
       "        1202, 1203, 1204, 1205, 1206, 1207, 1208, 1209, 1210, 1211, 1212,\n",
       "        1213, 1214, 1215, 1216, 1217, 1218, 1219, 1220, 1221, 1222, 1223,\n",
       "        1224, 1225, 1226, 1227, 1228, 1229, 1230, 1231, 1232, 1233, 1234,\n",
       "        1235, 1236, 1237, 1238, 1239, 1240, 1241, 1242, 1243, 1244, 1245,\n",
       "        1246, 1247, 1248, 1249, 1250, 1251, 1252, 1253, 1254, 1255, 1256,\n",
       "        1257, 1258, 1259, 1260, 1261, 1262, 1263, 1264, 1265, 1266, 1267,\n",
       "        1268, 1269, 1270, 1271, 1272, 1273, 1274, 1275, 1276, 1277, 1278,\n",
       "        1279, 1280, 1281, 1282, 1283, 1284, 1285, 1286, 1287, 1288, 1289,\n",
       "        1290, 1291, 1292, 1293, 1294, 1295, 1296, 1297, 1298, 1299, 1300,\n",
       "        1301, 1302, 1303, 1304, 1305, 1306, 1307, 1308, 1309, 1310, 1311,\n",
       "        1312, 1313, 1314, 1315, 1316, 1317, 1318, 1319, 1320, 1321, 1322,\n",
       "        1323, 1324, 1325, 1326, 1327, 1328, 1329, 1330, 1331, 1332, 1333,\n",
       "        1334, 1335, 1336, 1337, 1338, 1339, 1340, 1341, 1342, 1343, 1344,\n",
       "        1345, 1346, 1347, 1348, 1349, 1350, 1351, 1352, 1353, 1354, 1355,\n",
       "        1356, 1357, 1358, 1359, 1360, 1361, 1362, 1363, 1364, 1365, 1366,\n",
       "        1367, 1368, 1369, 1370, 1371, 1372, 1373, 1374, 1375, 1376, 1377,\n",
       "        1378, 1379, 1380, 1381, 1382, 1383, 1384, 1385, 1386, 1387, 1388,\n",
       "        1389, 1390, 1391, 1392, 1393, 1394, 1395, 1396, 1397, 1398, 1399,\n",
       "        1400, 1401, 1402, 1403, 1404, 1405, 1406, 1407, 1408, 1409, 1410,\n",
       "        1411, 1412, 1413, 1414, 1415, 1416, 1417, 1418, 1419, 1420, 1421,\n",
       "        1422, 1423, 1424, 1425, 1426, 1427, 1428, 1429, 1430, 1431, 1432,\n",
       "        1433, 1434, 1435, 1436, 1437, 1438, 1439, 1440, 1441, 1442, 1443,\n",
       "        1444, 1445, 1446, 1447, 1448, 1449, 1450, 1451, 1452, 1453, 1454,\n",
       "        1455, 1456, 1457, 1458, 1459, 1460, 1461, 1462, 1463, 1464, 1465,\n",
       "        1466, 1467, 1468, 1469, 1470, 1471, 1472, 1473, 1474, 1475, 1476,\n",
       "        1477, 1478, 1479, 1480, 1481, 1482, 1483, 1484, 1485, 1486, 1487,\n",
       "        1488, 1489, 1490, 1491, 1492, 1493, 1494, 1495, 1496, 1497, 1498,\n",
       "        1499], dtype=int64),)"
      ]
     },
     "execution_count": 41,
     "metadata": {},
     "output_type": "execute_result"
    }
   ],
   "source": [
    "np.where(lb1d==3)"
   ]
  }
 ],
 "metadata": {
  "interpreter": {
   "hash": "17df5e0dbd28e3de4a377cfa55fc96f308325d7152f8bc5af8ae2e74f866f3ef"
  },
  "kernelspec": {
   "display_name": "Python 3.8.10 64-bit ('DLtorch-py38': conda)",
   "name": "python3"
  },
  "language_info": {
   "codemirror_mode": {
    "name": "ipython",
    "version": 3
   },
   "file_extension": ".py",
   "mimetype": "text/x-python",
   "name": "python",
   "nbconvert_exporter": "python",
   "pygments_lexer": "ipython3",
   "version": "3.8.11"
  },
  "orig_nbformat": 2
 },
 "nbformat": 4,
 "nbformat_minor": 2
}
