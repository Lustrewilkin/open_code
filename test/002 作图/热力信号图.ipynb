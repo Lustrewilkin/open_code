{
 "cells": [
  {
   "cell_type": "code",
   "execution_count": 1,
   "metadata": {},
   "outputs": [],
   "source": [
    "import math\n",
    "import matplotlib.pyplot as plt\n",
    "import numpy as np\n",
    "import pandas as pd"
   ]
  },
  {
   "cell_type": "code",
   "execution_count": 13,
   "metadata": {},
   "outputs": [
    {
     "data": {
      "image/png": "[encoded data removed]",
      "text/plain": [
       "<Figure size 432x288 with 1 Axes>"
      ]
     },
     "metadata": {},
     "output_type": "display_data"
    }
   ],
   "source": [
    "adj = np.random.random([10,10])\n",
    "fig, ax = plt.subplots()\n",
    "# ax.colorbar('Greys')\n",
    "ax.imshow(adj, 'Greys')\n",
    "ax.set_xticklabels([]),ax.set_yticklabels([])\n",
    "ax.set_xticks([]),ax.set_yticks([])\n",
    "plt.show()"
   ]
  },
  {
   "cell_type": "code",
   "execution_count": null,
   "metadata": {},
   "outputs": [],
   "source": [
    "plt.figure(dpi=120)\n",
    "x = range(0,100)\n",
    "y = np.random.random(100)\n",
    "plt.plot(x, y, color='red',  label='random(x)')\n",
    "plt.legend() #绘制图例\n",
    "plt.xlabel('x')\n",
    "plt.ylabel('f(x)')"
   ]
  },
  {
   "cell_type": "code",
   "execution_count": 16,
   "metadata": {},
   "outputs": [],
   "source": [
    "def heatmap(data, row_labels, col_labels, ax=None,\n",
    "            cbar_kw={}, cbarlabel=\"\", **kwargs):\n",
    "    \"\"\"\n",
    "    Create a heatmap from a numpy array and two lists of labels.\n",
    "\n",
    "    Parameters\n",
    "    ----------\n",
    "    data\n",
    "        A 2D numpy array of shape (N, M).\n",
    "    row_labels\n",
    "        A list or array of length N with the labels for the rows.\n",
    "    col_labels\n",
    "        A list or array of length M with the labels for the columns.\n",
    "    ax\n",
    "        A `matplotlib.axes.Axes` instance to which the heatmap is plotted.  If\n",
    "        not provided, use current axes or create a new one.  Optional.\n",
    "    cbar_kw\n",
    "        A dictionary with arguments to `matplotlib.Figure.colorbar`.  Optional.\n",
    "    cbarlabel\n",
    "        The label for the colorbar.  Optional.\n",
    "    **kwargs\n",
    "        All other arguments are forwarded to `imshow`.\n",
    "    \"\"\"\n",
    "\n",
    "    if not ax:\n",
    "        ax = plt.gca()\n",
    "\n",
    "    # Plot the heatmap\n",
    "    im = ax.imshow(data, **kwargs)\n",
    "\n",
    "    # Create colorbar\n",
    "    cbar = ax.figure.colorbar(im, ax=ax, **cbar_kw)\n",
    "    cbar.ax.set_ylabel(cbarlabel, rotation=-90, va=\"bottom\")\n",
    "\n",
    "    # We want to show all ticks...\n",
    "    ax.set_xticks(np.arange(data.shape[1]))\n",
    "    ax.set_yticks(np.arange(data.shape[0]))\n",
    "    # ... and label them with the respective list entries.\n",
    "    ax.set_xticklabels(col_labels)\n",
    "    ax.set_yticklabels(row_labels)\n",
    "\n",
    "    # Let the horizontal axes labeling appear on top.\n",
    "    ax.tick_params(top=True, bottom=False,\n",
    "                   labeltop=True, labelbottom=False) \n",
    "\n",
    "    # Rotate the tick labels and set their alignment.\n",
    "    plt.setp(ax.get_xticklabels(), rotation=-30, ha=\"right\",\n",
    "             rotation_mode=\"anchor\")\n",
    "\n",
    "    # Turn spines off and create white grid.\n",
    "    # ax.spines[:].set_visible(False)\n",
    "    ax.spines['top'].set_visible(False) #去掉上边框\n",
    "    ax.spines['bottom'].set_visible(False) #去掉下边框\n",
    "    ax.spines['left'].set_visible(False) #去掉左边框\n",
    "    ax.spines['right'].set_visible(False) #去掉右边框\n",
    "\n",
    "\n",
    "    ax.set_xticks(np.arange(data.shape[1]+1)-.5, minor=True)\n",
    "    ax.set_yticks(np.arange(data.shape[0]+1)-.5, minor=True)\n",
    "    ax.grid(which=\"minor\", color=\"w\", linestyle='-', linewidth=3)\n",
    "    ax.tick_params(which=\"minor\", bottom=False, left=False)\n",
    "\n",
    "    return im, cbar"
   ]
  },
  {
   "cell_type": "code",
   "execution_count": null,
   "metadata": {},
   "outputs": [],
   "source": [
    "fig, ax = plt.subplots(dpi = 200)\n",
    "data = np.random.random([2,10])\n",
    "im = ax.imshow(data, cmap = 'viridis')"
   ]
  },
  {
   "cell_type": "code",
   "execution_count": null,
   "metadata": {},
   "outputs": [],
   "source": [
    "import seaborn as sns\n",
    "uniform_data = np.random.randn(2, 12)\n",
    "ax = sns.heatmap(uniform_data, center=0, cmap=\"YlGnBu\")\n"
   ]
  },
  {
   "cell_type": "code",
   "execution_count": null,
   "metadata": {},
   "outputs": [],
   "source": [
    "p = [1,2,3]\n",
    "for i in range(3) :\n",
    "    p[i] = 'c'+str(i)\n",
    "p"
   ]
  },
  {
   "cell_type": "code",
   "execution_count": null,
   "metadata": {},
   "outputs": [],
   "source": [
    "signal = np.random.randn(2,12)\n",
    "cam = np.random.randn(2,12)\n",
    "chn_num = signal.shape[0]\n",
    "# channel = np.reshape(np.arange(1, chn_num+1), [-1,1])\n",
    "channel = list(range(1, chn_num+1))\n",
    "for i in range(1, chn_num+1):\n",
    "    channel[i-1] = 'c'+ str(i)\n",
    "time = np.arange(1,signal.shape[1]+1)\n",
    "time = np.reshape(time, [1,signal.shape[1]])\n",
    "\n",
    "# signal = np.expand_dims(signal, axis=0)\n",
    "# cam = np.expand_dims(cam, axis=0)\n",
    "# time = np.expand_dims(time, axis=0)\n",
    "data = np.concatenate((signal, cam),axis=0)\n",
    "df = pd.DataFrame(data=data.T, columns = pd.MultiIndex.from_product([['signal', 'cam'], channel]))\n",
    "df['time'] = time.T.astype(np.float16)\n",
    "df\n",
    "# data"
   ]
  },
  {
   "cell_type": "code",
   "execution_count": null,
   "metadata": {},
   "outputs": [],
   "source": [
    "['c1','c2']\n",
    "aa = df['signal','c1'].values\n",
    "aa = np.reshape(aa, (12,1))\n",
    "aa"
   ]
  },
  {
   "cell_type": "code",
   "execution_count": null,
   "metadata": {},
   "outputs": [],
   "source": [
    "x= np.linspace(0.5,11.5,12)\n",
    "x"
   ]
  },
  {
   "cell_type": "code",
   "execution_count": null,
   "metadata": {},
   "outputs": [],
   "source": [
    "a = np.reshape(df['cam','c1'].values, (1,12))\n",
    "ax = sns.heatmap(a, center=0, cmap=\"YlGnBu\", yticklabels=['c1'])\n",
    "a = np.reshape(df['cam','c2'].values, (1,12))\n",
    "ax3 = sns.heatmap(a, center=0, cmap=\"YlGnBu\", yticklabels=['c2'])\n",
    "ax3 = ax.twinx()\n",
    "ax2 = ax.twinx()\n",
    "ax2 = sns.lineplot(x= np.linspace(0.5,11.5,12), y = 'c1',data=df['signal'], color='red', sort=False)\n",
    "plt.ylim(-3,3)\n",
    "plt.show()"
   ]
  },
  {
   "cell_type": "code",
   "execution_count": null,
   "metadata": {},
   "outputs": [],
   "source": [
    "fig, (ax1, ax2) = plt.subplots(2, 1, sharex=True, sharey=True, dpi = 200)\n",
    "a = np.reshape(df['cam','c1'].values, (1,12))\n",
    "ax11 = sns.heatmap(a, center=0, cmap=\"YlGnBu\", yticklabels=['c1'])\n",
    "ax12 = sns.lineplot(x= np.linspace(0.5,11.5,12), y = 'c1',data=df['signal'], color='red', sort=False)\n",
    "ax12 = ax11.twinx()\n",
    "ax1.imshow(ax11)\n",
    "ax1.imshow(ax12)\n",
    "\n",
    "a = np.reshape(df['cam','c2'].values, (1,12))\n",
    "ax2 = sns.heatmap(a, center=0, cmap=\"YlGnBu\", yticklabels=['c2'])\n",
    "ax21 = ax2.twinx()\n",
    "ax21 = sns.lineplot(x= np.linspace(0.5,11.5,12), y = 'c2',data=df['signal'], color='red', sort=False)\n",
    "plt.ylim(-3,3)\n",
    "plt.subplots_adjust(wspace=0, hspace=0)\n",
    "plt.show()"
   ]
  },
  {
   "cell_type": "code",
   "execution_count": null,
   "metadata": {},
   "outputs": [],
   "source": [
    "fig = plt.figure() \n",
    "ax1 = fig.add_axes([0.1, 0.5, 0.8, 0.4], \n",
    "                    xticklabels=[], ylim=(-3, 3)) \n",
    "ax1.set(ylabel='c1')\n",
    "ax2 = fig.add_axes([0.1, 0.1, 0.8, 0.4], \n",
    "                    ylim=(-3, 3))\n",
    "a = np.reshape(df['cam','c1'].values, (1,12))\n",
    "im = ax1.imshow(a, cmap = 'seismic', aspect='auto',extent=(0,12,-3,3),interpolation= 'bilinear')\n",
    "ax1.plot(np.linspace(0.5,11.5,12), df['signal','c1'], color = 'green')\n",
    "\n",
    "im = ax2.imshow(a, cmap = 'seismic', aspect='auto',extent=(0,12,-3,3))\n",
    "ax2.plot(np.linspace(0.5,11.5,12), df['signal','c1'], color = 'green')\n",
    "plt.show()"
   ]
  },
  {
   "cell_type": "code",
   "execution_count": 8,
   "metadata": {},
   "outputs": [],
   "source": [
    "def line_heatmap(y_line, y_heat, y_name, fig, i):\n",
    "    \"\"\"\n",
    "        用于画折线-热力图\n",
    "        y_line,y_heat 为 np.array, shape = [-1] or [1,-1]\n",
    "    \"\"\"\n",
    "    ylim=(-3, 3) # -3,3 根据情况还得改\n",
    "    ax1 = fig.add_axes([0.1, 0.1+i*0.4, 0.8, 0.4], \n",
    "                    xticklabels=[], ylim=ylim) \n",
    "    ax1.set(ylabel='c{0}'.format(i))\n",
    "\n",
    "    y_heat = np.reshape(y_heat,(1,-1))\n",
    "    y_line = np.reshape(y_line,(-1,1))\n",
    "    im = ax1.imshow(y_heat, cmap = 'viridis', aspect='auto',extent=(0,y_heat.shape[1],ylim[0],ylim[1]),interpolation= 'bilinear')\n",
    "    lens = y_heat.shape[1]\n",
    "    ax1.plot(np.linspace(0.5,lens-0.5,lens), y_line, color = 'red')\n",
    "    # ax1.spines['bottom'].set_visible(False) #去掉下边框\n",
    "    ax1.set_xticks([])"
   ]
  },
  {
   "cell_type": "code",
   "execution_count": null,
   "metadata": {},
   "outputs": [],
   "source": [
    "fig = plt.figure() \n",
    "for i in range(4):\n",
    "    signal = np.random.randn(1,22)\n",
    "    cam = np.random.randn(1,22)\n",
    "    line_heatmap(y_line=signal, y_heat=cam, y_name='c{0}'.format(i), fig=fig, i=i)\n",
    "plt.show()"
   ]
  },
  {
   "cell_type": "markdown",
   "metadata": {},
   "source": [
    "# 实际操作"
   ]
  },
  {
   "cell_type": "code",
   "execution_count": 2,
   "metadata": {},
   "outputs": [],
   "source": [
    "import numpy as np\n",
    "from scipy.io import loadmat"
   ]
  },
  {
   "cell_type": "code",
   "execution_count": 14,
   "metadata": {},
   "outputs": [],
   "source": [
    "data = np.load('E:\\\\DATABASE\\\\FirstGNN\\\\signal\\\\signal.npy',  allow_pickle=True)\n",
    "n_data = data[0, 0]\n",
    "# for j in range(n_data.shape[0]): # 分类数目\n",
    "    # n1 = n_data[j, 0] "
   ]
  },
  {
   "cell_type": "code",
   "execution_count": 6,
   "metadata": {},
   "outputs": [
    {
     "data": {
      "text/plain": [
       "numpy.ndarray"
      ]
     },
     "execution_count": 6,
     "metadata": {},
     "output_type": "execute_result"
    }
   ],
   "source": [
    "type(data)"
   ]
  },
  {
   "cell_type": "code",
   "execution_count": null,
   "metadata": {},
   "outputs": [],
   "source": [
    "data"
   ]
  },
  {
   "cell_type": "code",
   "execution_count": 8,
   "metadata": {},
   "outputs": [],
   "source": [
    "data2 = np.load('E:\\\\DATABASE\\\\FirstGNN\\\\CT\\\\CT-GNN-5.npz',allow_pickle=True)\n",
    "\n",
    "# cam = data2['cam_list']\n",
    "# cam.shape"
   ]
  },
  {
   "cell_type": "code",
   "execution_count": 9,
   "metadata": {},
   "outputs": [],
   "source": [
    "cam = data2['n_cam_list']"
   ]
  },
  {
   "cell_type": "code",
   "execution_count": 10,
   "metadata": {},
   "outputs": [
    {
     "data": {
      "text/plain": [
       "(18, 128)"
      ]
     },
     "execution_count": 10,
     "metadata": {},
     "output_type": "execute_result"
    }
   ],
   "source": [
    "cam[0].shape"
   ]
  },
  {
   "cell_type": "code",
   "execution_count": 11,
   "metadata": {},
   "outputs": [],
   "source": [
    "label_list = data2['label_list']"
   ]
  },
  {
   "cell_type": "code",
   "execution_count": 7,
   "metadata": {},
   "outputs": [
    {
     "data": {
      "text/plain": [
       "array([1, 2, 3, 4])"
      ]
     },
     "execution_count": 7,
     "metadata": {},
     "output_type": "execute_result"
    }
   ],
   "source": [
    "a = np.array([1,2])\n",
    "b = np.array([3,4])\n",
    "np.concatenate((a,b),axis = 0) "
   ]
  },
  {
   "cell_type": "code",
   "execution_count": 12,
   "metadata": {},
   "outputs": [
    {
     "data": {
      "text/plain": [
       "((18, 128), (18, 128))"
      ]
     },
     "execution_count": 12,
     "metadata": {},
     "output_type": "execute_result"
    }
   ],
   "source": [
    "cam[0].shape, cam[1].shape"
   ]
  },
  {
   "cell_type": "code",
   "execution_count": 15,
   "metadata": {},
   "outputs": [
    {
     "ename": "NameError",
     "evalue": "name 'line_heatmap' is not defined",
     "output_type": "error",
     "traceback": [
      "\u001b[1;31m---------------------------------------------------------------------------\u001b[0m",
      "\u001b[1;31mNameError\u001b[0m                                 Traceback (most recent call last)",
      "\u001b[1;32m<ipython-input-15-7440b6642cc5>\u001b[0m in \u001b[0;36m<module>\u001b[1;34m\u001b[0m\n\u001b[0;32m      8\u001b[0m             \u001b[0mit\u001b[0m \u001b[1;33m=\u001b[0m \u001b[0mint\u001b[0m\u001b[1;33m(\u001b[0m\u001b[0mi\u001b[0m\u001b[1;33m+\u001b[0m\u001b[0mk\u001b[0m\u001b[1;33m*\u001b[0m\u001b[0mn1\u001b[0m\u001b[1;33m.\u001b[0m\u001b[0mshape\u001b[0m\u001b[1;33m[\u001b[0m\u001b[1;36m0\u001b[0m\u001b[1;33m]\u001b[0m\u001b[1;33m+\u001b[0m\u001b[0mj\u001b[0m\u001b[1;33m*\u001b[0m\u001b[0mn_data\u001b[0m\u001b[1;33m.\u001b[0m\u001b[0mshape\u001b[0m\u001b[1;33m[\u001b[0m\u001b[1;36m0\u001b[0m\u001b[1;33m]\u001b[0m\u001b[1;33m)\u001b[0m\u001b[1;33m\u001b[0m\u001b[1;33m\u001b[0m\u001b[0m\n\u001b[0;32m      9\u001b[0m             \u001b[0mcam\u001b[0m \u001b[1;33m=\u001b[0m \u001b[0mnp\u001b[0m\u001b[1;33m.\u001b[0m\u001b[0mconcatenate\u001b[0m\u001b[1;33m(\u001b[0m\u001b[1;33m(\u001b[0m\u001b[0mcam\u001b[0m\u001b[1;33m[\u001b[0m\u001b[0mit\u001b[0m\u001b[1;33m]\u001b[0m\u001b[1;33m,\u001b[0m \u001b[0mcam\u001b[0m\u001b[1;33m[\u001b[0m\u001b[0mit\u001b[0m\u001b[1;33m+\u001b[0m\u001b[1;36m1\u001b[0m\u001b[1;33m]\u001b[0m\u001b[1;33m,\u001b[0m\u001b[0mcam\u001b[0m\u001b[1;33m[\u001b[0m\u001b[0mit\u001b[0m\u001b[1;33m+\u001b[0m\u001b[1;36m2\u001b[0m\u001b[1;33m]\u001b[0m\u001b[1;33m)\u001b[0m\u001b[1;33m,\u001b[0m\u001b[0maxis\u001b[0m \u001b[1;33m=\u001b[0m \u001b[1;36m0\u001b[0m\u001b[1;33m)\u001b[0m\u001b[1;33m\u001b[0m\u001b[1;33m\u001b[0m\u001b[0m\n\u001b[1;32m---> 10\u001b[1;33m             \u001b[0mline_heatmap\u001b[0m\u001b[1;33m(\u001b[0m\u001b[0my_line\u001b[0m\u001b[1;33m=\u001b[0m\u001b[0mdn\u001b[0m\u001b[1;33m,\u001b[0m \u001b[0my_heat\u001b[0m\u001b[1;33m=\u001b[0m\u001b[0mcam\u001b[0m\u001b[1;33m,\u001b[0m \u001b[0my_name\u001b[0m\u001b[1;33m=\u001b[0m\u001b[1;34m'c{0}'\u001b[0m\u001b[1;33m.\u001b[0m\u001b[0mformat\u001b[0m\u001b[1;33m(\u001b[0m\u001b[0mi\u001b[0m\u001b[1;33m)\u001b[0m\u001b[1;33m,\u001b[0m \u001b[0mfig\u001b[0m\u001b[1;33m=\u001b[0m\u001b[0mfig\u001b[0m\u001b[1;33m,\u001b[0m \u001b[0mi\u001b[0m\u001b[1;33m=\u001b[0m\u001b[0mi\u001b[0m\u001b[1;33m)\u001b[0m\u001b[1;33m\u001b[0m\u001b[1;33m\u001b[0m\u001b[0m\n\u001b[0m\u001b[0;32m     11\u001b[0m         \u001b[0mplt\u001b[0m\u001b[1;33m.\u001b[0m\u001b[0msavefig\u001b[0m\u001b[1;33m(\u001b[0m\u001b[1;34m'E:\\\\DATABASE\\\\FirstGNN\\\\line-heat\\\\test.png'\u001b[0m\u001b[1;33m)\u001b[0m\u001b[1;33m\u001b[0m\u001b[1;33m\u001b[0m\u001b[0m\n",
      "\u001b[1;31mNameError\u001b[0m: name 'line_heatmap' is not defined"
     ]
    },
    {
     "data": {
      "text/plain": [
       "<Figure size 432x288 with 0 Axes>"
      ]
     },
     "metadata": {},
     "output_type": "display_data"
    }
   ],
   "source": [
    "for j in range(1):#n_data.shape[0]): # 分类数目\n",
    "    n1 = n_data[j,0] # 1-level\n",
    "    for k in range(1):#n1.shape[0]):\n",
    "        n11 = n1[k,0] # 2-level\n",
    "        fig = plt.figure()\n",
    "        for i in range(1):# n11.shape[0]): \n",
    "            dn = n11[i,0] # 某一行信号\n",
    "            it = int(i+k*n1.shape[0]+j*n_data.shape[0])\n",
    "            cam = np.concatenate((cam[it], cam[it+1],cam[it+2]),axis = 0)\n",
    "            line_heatmap(y_line=dn, y_heat=cam, y_name='c{0}'.format(i), fig=fig, i=i)\n",
    "        plt.savefig('E:\\\\DATABASE\\\\FirstGNN\\\\line-heat\\\\test.png')"
   ]
  },
  {
   "cell_type": "markdown",
   "metadata": {},
   "source": [
    "# signal"
   ]
  },
  {
   "cell_type": "code",
   "execution_count": 2,
   "metadata": {},
   "outputs": [],
   "source": [
    "from scipy.interpolate import make_interp_spline\n",
    "import matplotlib.pyplot as plt\n",
    "import numpy as np"
   ]
  },
  {
   "cell_type": "code",
   "execution_count": 3,
   "metadata": {},
   "outputs": [],
   "source": [
    "rd = np.random.randn(1,200)\n",
    "data = np.random.randint(17, 25, size=[1,200])\n",
    "data = data+rd"
   ]
  },
  {
   "cell_type": "code",
   "execution_count": 17,
   "metadata": {},
   "outputs": [
    {
     "data": {
      "image/png": "[encoded data removed]",
      "text/plain": [
       "<Figure size 432x288 with 4 Axes>"
      ]
     },
     "metadata": {},
     "output_type": "display_data"
    }
   ],
   "source": [
    "fig = plt.figure() \n",
    "for i in range(4):\n",
    "    rd = np.random.rand(30)\n",
    "    data = np.random.randint(2, 3, size=30)\n",
    "    data = data+rd\n",
    "    xnew = np.linspace(0,30,300)\n",
    "\n",
    "    datas = make_interp_spline(range(30), data, k=3)(xnew)\n",
    "    # plt.plot(xnew, datas, \"C2o-\", markevery = 1, mec = \"1.\")\n",
    "    ylim=(1, 5) # -3,3 根据情况还得改\n",
    "    ax1 = fig.add_axes([0.1, 0.1+i*0.5, 1., 0.4], \n",
    "                    xticklabels=[], ylim=ylim)\n",
    "    ax1.plot(xnew, datas)\n",
    "    ax1.set_xticks([])\n",
    "    ax1.set_yticks([])"
   ]
  }
 ],
 "metadata": {
  "interpreter": {
   "hash": "17df5e0dbd28e3de4a377cfa55fc96f308325d7152f8bc5af8ae2e74f866f3ef"
  },
  "kernelspec": {
   "display_name": "Python 3.8.10 64-bit ('DLtorch-py38': conda)",
   "name": "python3"
  },
  "language_info": {
   "codemirror_mode": {
    "name": "ipython",
    "version": 3
   },
   "file_extension": ".py",
   "mimetype": "text/x-python",
   "name": "python",
   "nbconvert_exporter": "python",
   "pygments_lexer": "ipython3",
   "version": "3.8.11"
  },
  "orig_nbformat": 2
 },
 "nbformat": 4,
 "nbformat_minor": 2
}
