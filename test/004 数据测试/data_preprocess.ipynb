{
 "cells": [
  {
   "cell_type": "code",
   "execution_count": 1,
   "metadata": {},
   "outputs": [],
   "source": [
    "from scipy import io\n",
    "import numpy as np\n",
    "import os"
   ]
  },
  {
   "cell_type": "code",
   "execution_count": 2,
   "metadata": {},
   "outputs": [],
   "source": [
    "patient = ['dzq','kly','lbg','llw','my','qeq','sll','swl','wfz','xjc','yc','ynb']\n",
    "task = ['double01','double02','double03','simple01','simple02']"
   ]
  },
  {
   "cell_type": "code",
   "execution_count": null,
   "metadata": {},
   "outputs": [],
   "source": [
    "for name in patient:\n",
    "    print(name)"
   ]
  },
  {
   "cell_type": "markdown",
   "metadata": {},
   "source": [
    "# cheatmap\n",
    " \n",
    "os.mkdir(path) ## 创建file\n",
    "\n",
    "os.listdir() ## 返回该路径的一个list\n"
   ]
  },
  {
   "cell_type": "markdown",
   "metadata": {},
   "source": [
    "# ADJ load"
   ]
  },
  {
   "cell_type": "code",
   "execution_count": 10,
   "metadata": {},
   "outputs": [],
   "source": [
    "file_name = os.listdir('E:\\\\DATABASE\\\\renzhi_BN\\\\EEG3\\\\cohmatrix')\n",
    "# type(file_name)\n",
    "# file_name"
   ]
  },
  {
   "cell_type": "code",
   "execution_count": 11,
   "metadata": {},
   "outputs": [],
   "source": [
    "test_path = 'E:\\\\DATABASE\\\\renzhi_BN\\\\EEG3\\\\cohmatrix\\\\dzq_double01_coherence\\\\adj.mat'\n",
    "data = io.loadmat(test_path)"
   ]
  },
  {
   "cell_type": "code",
   "execution_count": 18,
   "metadata": {},
   "outputs": [
    {
     "data": {
      "text/plain": [
       "(18, 18)"
      ]
     },
     "execution_count": 18,
     "metadata": {},
     "output_type": "execute_result"
    }
   ],
   "source": [
    "# type(data)\n",
    "# data 是一个描述mat文件的字典，直接访问当时在MATLAB中保存变量的名字即可\n",
    "adj = data['adj'] # 数值保存以 np.ndarray 形式\n",
    "# type(adj), adj.shape \n",
    "    # # adj.shape = [trail_num,1] trail\n",
    "# adj[0,0].shape \n",
    "    # # adj[0,0].shape = [1,1] 我也不知道为什么，好像这里应该是任务 # 没有问题\n",
    "# ===============================================================================\n",
    "# 没有问题\n",
    "# adj[0,0][0,0].shape \n",
    "    # # adj[0,0][0,0].shape = [33,1] 33个频段\n",
    "# adj[0,0][0,0][0,0].shape \n",
    "    # # adj[0,0][0,0][0,0].shape = [18,18] 实际连接矩阵"
   ]
  },
  {
   "cell_type": "code",
   "execution_count": 25,
   "metadata": {},
   "outputs": [],
   "source": [
    "\n",
    "data_path = 'E:\\\\DATABASE\\\\renzhi_BN\\\\EEG3\\\\cohmatrix'\n",
    "for p in patient:\n",
    "    adj_p= []\n",
    "    for t in task:\n",
    "        pt_path = os.path.join(data_path, '{0}_{1}_coherence\\\\adj.mat'.format(p,t))\n",
    "        pt_data = io.loadmat(pt_path)\n",
    "        adj = pt_data['adj']\n",
    "        adj_p.append(adj)\n",
    "    adj_p = np.array(adj_p, dtype=object)\n",
    "    np.save('E:\\\\DATABASE\\\\FirstGNN\\\\adjoridata\\\\{0}'.format(p), adj_p)"
   ]
  },
  {
   "cell_type": "code",
   "execution_count": 9,
   "metadata": {},
   "outputs": [
    {
     "data": {
      "text/plain": [
       "(5,)"
      ]
     },
     "execution_count": 9,
     "metadata": {},
     "output_type": "execute_result"
    }
   ],
   "source": [
    "e_data = np.load('E:\\\\DATABASE\\\\FirstGNN\\\\adjoridata\\\\kly.npy', allow_pickle=True)\n",
    "e_data.shape"
   ]
  },
  {
   "cell_type": "markdown",
   "metadata": {},
   "source": [
    "有的数据除了问题"
   ]
  },
  {
   "cell_type": "code",
   "execution_count": 4,
   "metadata": {},
   "outputs": [],
   "source": [
    "import torch"
   ]
  },
  {
   "cell_type": "code",
   "execution_count": null,
   "metadata": {},
   "outputs": [],
   "source": [
    "for j in range(5):\n",
    "    e1 = e_data[j]\n",
    "    count = 125\n",
    "    k, k1 = 0, 0\n",
    "    while k < count:  # 摘取125个样例\n",
    "        if k1 < e1.shape[0]:  # trail\n",
    "            for f in range(16):\n",
    "                ed = e1[k1, 0][0, 0][f, 0]\n",
    "                if ed.shape != (18,18):\n",
    "                    ed = e1[k1-1, 0][0, 0][f, 0]\n",
    "                # ed = torch.tensor(e1[k1, 0][0, 0][f, 0])\n",
    "                # e_d1 = ed.reshape(-1)\n",
    "                # values, indices = e_d1.topk(int(e_d1.shape[0]/4+ed.shape[0]), dim=0, largest=True, sorted=True)\n",
    "            k1 += 1\n",
    "            k += 1\n",
    "        else:\n",
    "            k1 = k1-e1.shape[0]                       \n",
    "        print('class：{0}，trail: {1}, shape: {2}'.format(j,k1,ed.shape))"
   ]
  },
  {
   "cell_type": "code",
   "execution_count": 3,
   "metadata": {},
   "outputs": [
    {
     "data": {
      "text/plain": [
       "(101, 1)"
      ]
     },
     "execution_count": 3,
     "metadata": {},
     "output_type": "execute_result"
    }
   ],
   "source": [
    "e_data[0].shape"
   ]
  },
  {
   "cell_type": "markdown",
   "metadata": {},
   "source": [
    "# signal"
   ]
  },
  {
   "cell_type": "code",
   "execution_count": 3,
   "metadata": {},
   "outputs": [],
   "source": [
    "signal_data = io.loadmat('E:\\\\DATABASE\\\\renzhi_BN\\\\EEG3\\\\task_eeg\\\\task_eeg.mat')"
   ]
  },
  {
   "cell_type": "code",
   "execution_count": 4,
   "metadata": {},
   "outputs": [],
   "source": [
    "# type(signal_data)\n",
    "# signal_data.keys() # dict_keys(['__header__', '__version__', '__globals__', 'task_seq'])\n",
    "signal_data = signal_data['task_seq']"
   ]
  },
  {
   "cell_type": "code",
   "execution_count": 8,
   "metadata": {},
   "outputs": [
    {
     "data": {
      "text/plain": [
       "(18, 244)"
      ]
     },
     "execution_count": 8,
     "metadata": {},
     "output_type": "execute_result"
    }
   ],
   "source": [
    "# type(signal_data) # ndarray\n",
    "# signal_data.shape # =[12,1]\n",
    "# signal_data[0,0].shape # = [5,1]\n",
    "# signal_data[0,0][0,0].shape # trail = [-1,1]\n",
    "signal_data[0,0][0,0][0,0].shape # [18,-1]"
   ]
  },
  {
   "cell_type": "markdown",
   "metadata": {},
   "source": [
    "# 结果显示有的人的数据很有问题"
   ]
  },
  {
   "cell_type": "markdown",
   "metadata": {},
   "source": [
    "    # print('p: {0} task: {1} trail: {2}      shape: {3}'.format(patient[p], t, trail, signal_data[p,0][t,0][trail,0].shape))\n",
    "            # s1 = 1\n",
    "        # if s1 == 1 and s2 == 0:\n",
    "        #     print('p: {0} task: {1} trail_num: {2}'.format(patient[p], t, signal_data[p,0][t,0].shape[0]))\n",
    "        #     s2 = 1"
   ]
  },
  {
   "cell_type": "code",
   "execution_count": 6,
   "metadata": {},
   "outputs": [],
   "source": [
    "for p in range(12):\n",
    "    for t in range(5):\n",
    "        # print('p: {0}; task: {1}; trail_num: {2}'.format(patient[p], t, signal_data[p,0][t,0].shape[0]))\n",
    "        s1,s2 = 0, 0\n",
    "        for trail in range(signal_data[p,0][t,0].shape[0]):\n",
    "            if signal_data[p,0][t,0][trail,0].shape[1] < 100:\n",
    "                signal_data[p,0][t,0][trail,0] = signal_data[p,0][t,0][trail-1,0]"
   ]
  },
  {
   "cell_type": "code",
   "execution_count": 7,
   "metadata": {},
   "outputs": [],
   "source": [
    "np.save('E:\\\\DATABASE\\\\FirstGNN\\\\signal\\\\signal.npy', signal_data)"
   ]
  },
  {
   "cell_type": "code",
   "execution_count": 3,
   "metadata": {},
   "outputs": [],
   "source": [
    "# 重启内核后\n",
    "signal = np.load('E:\\\\DATABASE\\\\FirstGNN\\\\signal\\\\signal.npy', allow_pickle=True)"
   ]
  },
  {
   "cell_type": "code",
   "execution_count": 5,
   "metadata": {},
   "outputs": [
    {
     "data": {
      "text/plain": [
       "(12, 1)"
      ]
     },
     "execution_count": 5,
     "metadata": {},
     "output_type": "execute_result"
    }
   ],
   "source": [
    "# type(signal)\n",
    "signal.shape"
   ]
  },
  {
   "cell_type": "markdown",
   "metadata": {},
   "source": [
    "# 为了适应signal，必须修改adj\n"
   ]
  },
  {
   "cell_type": "markdown",
   "metadata": {},
   "source": [
    "for p in range(12):\n",
    "    adj = np.load('E:\\\\DATABASE\\\\FirstGNN\\\\adjoridata\\\\{0}.npy'.format(patient[p]))\n",
    "    for t in range(5):\n",
    "        # print('p: {0}; task: {1}; trail_num: {2}'.format(patient[p], t, signal_data[p,0][t,0].shape[0]))\n",
    "        for trail in range(signal_data[p,0][t,0].shape[0]):\n",
    "            if signal_data[p,0][t,0][trail,0].shape[1] < 100:\n",
    "                adj[t,0][trail,0] = adj[t,0][trail-1,0]"
   ]
  }
 ],
 "metadata": {
  "kernelspec": {
   "display_name": "Python 3.8.11 ('DLtorch-py38')",
   "language": "python",
   "name": "python3"
  },
  "language_info": {
   "codemirror_mode": {
    "name": "ipython",
    "version": 3
   },
   "file_extension": ".py",
   "mimetype": "text/x-python",
   "name": "python",
   "nbconvert_exporter": "python",
   "pygments_lexer": "ipython3",
   "version": "3.8.11"
  },
  "orig_nbformat": 4,
  "vscode": {
   "interpreter": {
    "hash": "e0f4871174d17c2bcac589796388e07be3c0794fb1edf9d00f099d67ef52f7ad"
   }
  }
 },
 "nbformat": 4,
 "nbformat_minor": 2
}
