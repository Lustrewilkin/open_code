{
 "cells": [
  {
   "cell_type": "code",
   "execution_count": null,
   "metadata": {},
   "outputs": [],
   "source": [
    "import torch"
   ]
  },
  {
   "cell_type": "markdown",
   "metadata": {},
   "source": [
    "# modle save"
   ]
  },
  {
   "cell_type": "code",
   "execution_count": null,
   "metadata": {},
   "outputs": [],
   "source": [
    "# 保存整个网络\n",
    "torch.save(net, PATH) \n",
    "# 保存网络中的参数, 速度快，占空间少\n",
    "torch.save(net.state_dict(),PATH)\n",
    "#--------------------------------------------------\n",
    "#针对上面一般的保存方法，加载的方法分别是：\n",
    "model_dict=torch.load(PATH)\n",
    "model_dict=model.load_state_dict(torch.load(PATH))"
   ]
  },
  {
   "cell_type": "code",
   "execution_count": null,
   "metadata": {},
   "outputs": [],
   "source": [
    "# 保存除了网络以外其他参数\n",
    "torch.save({'state_dict': model.state_dict(), \n",
    "            'optimizer': optimizer.state_dict()},\n",
    "            checkpoint_path + '/m-' + launchTimestamp + '-' + str(\"%.4f\" % lossMIN) + '.pth.tar')\n",
    "# .pth.tar 很重要"
   ]
  },
  {
   "cell_type": "code",
   "execution_count": null,
   "metadata": {},
   "outputs": [],
   "source": [
    "# 加载的方式：\n",
    "def load_checkpoint(model, checkpoint_PATH, optimizer):\n",
    "    if checkpoint != None:\n",
    "        model_CKPT = torch.load(checkpoint_PATH)\n",
    "        model.load_state_dict(model_CKPT['state_dict'])\n",
    "        print('loading model!')\n",
    "        optimizer.load_state_dict(model_CKPT['optimizer'])\n",
    "    return model, optimizer"
   ]
  },
  {
   "cell_type": "markdown",
   "metadata": {},
   "source": [
    "# np save and read"
   ]
  },
  {
   "cell_type": "code",
   "execution_count": 1,
   "metadata": {},
   "outputs": [],
   "source": [
    "import numpy as np"
   ]
  },
  {
   "cell_type": "code",
   "execution_count": 8,
   "metadata": {},
   "outputs": [],
   "source": [
    "import torch\n",
    "lis = []\n",
    "for i in range(10):\n",
    "    lis.append(torch.rand([2,3]).numpy())\n",
    "\n",
    "aa = np.array(lis)"
   ]
  },
  {
   "cell_type": "code",
   "execution_count": 2,
   "metadata": {},
   "outputs": [],
   "source": [
    "x = np.arange(10)\n",
    "y = np.sin(x)"
   ]
  },
  {
   "cell_type": "code",
   "execution_count": 3,
   "metadata": {},
   "outputs": [],
   "source": [
    "np.savez('E:\\\\DATABASE\\\\FirstGNN\\\\CT\\\\GNN-CT-{0}'.format(1),AX=x,AY=y) # 被赋值的是名字 "
   ]
  },
  {
   "cell_type": "code",
   "execution_count": 5,
   "metadata": {},
   "outputs": [],
   "source": [
    "npz = np.load('E:\\\\DATABASE\\\\FirstGNN\\\\CT\\\\GNN-CT-{0}.npz'.format(1))"
   ]
  },
  {
   "cell_type": "code",
   "execution_count": 7,
   "metadata": {},
   "outputs": [],
   "source": [
    "ax = npz['AX']"
   ]
  }
 ],
 "metadata": {
  "kernelspec": {
   "display_name": "Python 3.8.11 ('DLtorch-py38')",
   "language": "python",
   "name": "python3"
  },
  "language_info": {
   "codemirror_mode": {
    "name": "ipython",
    "version": 3
   },
   "file_extension": ".py",
   "mimetype": "text/x-python",
   "name": "python",
   "nbconvert_exporter": "python",
   "pygments_lexer": "ipython3",
   "version": "3.8.11"
  },
  "orig_nbformat": 2,
  "vscode": {
   "interpreter": {
    "hash": "e0f4871174d17c2bcac589796388e07be3c0794fb1edf9d00f099d67ef52f7ad"
   }
  }
 },
 "nbformat": 4,
 "nbformat_minor": 2
}
