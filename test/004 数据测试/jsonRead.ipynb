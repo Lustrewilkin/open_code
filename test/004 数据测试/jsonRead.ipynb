{
 "cells": [
  {
   "cell_type": "code",
   "execution_count": 27,
   "metadata": {},
   "outputs": [],
   "source": [
    "import numpy as np\n",
    "import pandas as pd\n",
    "# import torch as th"
   ]
  },
  {
   "cell_type": "code",
   "execution_count": 1,
   "metadata": {},
   "outputs": [],
   "source": [
    "a = ['1','fds','r',3]"
   ]
  },
  {
   "cell_type": "code",
   "execution_count": 2,
   "metadata": {},
   "outputs": [],
   "source": [
    "d = dict()\n",
    "for i in range(len(a)):\n",
    "    d[i] = a[i]"
   ]
  },
  {
   "cell_type": "markdown",
   "metadata": {},
   "source": [
    "# json 读取与保存\n",
    "优点：快(写入 0.3s，读出0.3s; 可能主要是with的问题)，文件小，可读性高\n",
    "\n",
    "缺点：tensor，numpy等数据类型不支持，在转换的过程里，会数字会失真"
   ]
  },
  {
   "cell_type": "markdown",
   "metadata": {},
   "source": [
    "### 保存\n"
   ]
  },
  {
   "cell_type": "code",
   "execution_count": 4,
   "metadata": {},
   "outputs": [],
   "source": [
    "import json\n",
    "\n",
    "# arg = Arg()\n",
    "class recoder(object):\n",
    "    def __init__(self) -> None:\n",
    "        super().__init__()\n",
    "        self.name = None\n",
    "        self.age = 0\n",
    "        self.vip = False\n",
    "        self.address = dict()\n",
    "data = {\n",
    "    'name': 'e',\n",
    "    'task': 32,\n",
    "    'model': True,\n",
    "    'count': 1,\n",
    "    'patient': 'dzq',\n",
    "    'fre_chs': 2,\n",
    "    'loss':{'tr_loss':{}, 'test_loss':{}},\n",
    "    'acc':{'tr_acc':{}, 'test_acc':{}},\n",
    "    'd':d,\n",
    "    # 'torch':{'fsd':{'1':th.Tensor([1, 2.3, 3]).tolist(), '2':th.Tensor([2,5,7.0]).tolist()}},\n",
    "    'ad':1\n",
    "}"
   ]
  },
  {
   "cell_type": "code",
   "execution_count": null,
   "metadata": {},
   "outputs": [],
   "source": [
    "# 将 Python 字典类型转换为 JSON 对象\n",
    "json_str = json.dumps(data)\n",
    "print(json_str) # 结果 {\"name\": \"pengjunlee\", \"age\": 32, \"vip\": true, \"address\": {\"province\": \"GuangDong\", \"city\": \"ShenZhen\"}}\n",
    " \n",
    "# 将 JSON 对象类型转换为 Python 字典\n",
    "user_dic = json.loads(json_str)\n",
    "print(user_dic['address']) # 结果 {'province': 'GuangDong', 'city': 'ShenZhen'}\n",
    " \n",
    "# 将 Python 字典直接输出到文件\n",
    "with open('pengjunlee.json', 'w', encoding='utf-8') as f:\n",
    "    json.dump(user_dic, f, ensure_ascii=False, indent=4)\n",
    " \n",
    "# 将类文件对象中的JSON字符串直接转换成 Python 字典\n",
    "with open('pengjunlee.json', 'r', encoding='utf-8') as f:\n",
    "    ret_dic = json.load(f)\n",
    "    print(type(ret_dic)) # 结果 <class 'dict'>\n",
    "    print(ret_dic['name']) # 结果 pengjunlee"
   ]
  },
  {
   "cell_type": "code",
   "execution_count": 33,
   "metadata": {},
   "outputs": [
    {
     "name": "stdout",
     "output_type": "stream",
     "text": [
      "{\"name\": \"e\", \"task\": 32, \"model\": true, \"count\": 1, \"patient\": \"dzq\", \"fre_chs\": 2, \"loss\": {\"tr_loss\": {}, \"test_loss\": {}}, \"acc\": {\"tr_acc\": {}, \"test_acc\": {}}, \"d\": {\"0\": \"1\", \"1\": \"fds\", \"2\": \"r\", \"3\": 3}, \"torch\": {\"fsd\": {\"1\": [1.0, 2.299999952316284, 3.0], \"2\": [2.0, 5.0, 7.0]}}}\n"
     ]
    }
   ],
   "source": [
    "json_str = json.dumps(data)\n",
    "print(json_str) "
   ]
  },
  {
   "cell_type": "markdown",
   "metadata": {},
   "source": [
    "### 读取"
   ]
  },
  {
   "cell_type": "code",
   "execution_count": 46,
   "metadata": {},
   "outputs": [],
   "source": [
    "with open('pengjunlee.json', 'w', encoding='utf-8') as f:\n",
    "    json.dump(data, f, ensure_ascii=False, indent=4)"
   ]
  },
  {
   "cell_type": "code",
   "execution_count": 47,
   "metadata": {},
   "outputs": [],
   "source": [
    "with open('pengjunlee.json', 'r', encoding='utf-8') as f:\n",
    "    ret_dic = json.load(f)"
   ]
  },
  {
   "cell_type": "code",
   "execution_count": 48,
   "metadata": {},
   "outputs": [
    {
     "data": {
      "text/plain": [
       "{'name': 'e',\n",
       " 'task': 32,\n",
       " 'model': True,\n",
       " 'count': 1,\n",
       " 'patient': 'dzq',\n",
       " 'fre_chs': 2,\n",
       " 'loss': {'tr_loss': {}, 'test_loss': {}},\n",
       " 'acc': {'tr_acc': {}, 'test_acc': {}},\n",
       " 'd': {'0': '1', '1': 'fds', '2': 'r', '3': 3},\n",
       " 'torch': {'fsd': {'1': [1.0, 2.299999952316284, 3.0], '2': [2.0, 5.0, 7.0]}},\n",
       " 'ad': 1}"
      ]
     },
     "execution_count": 48,
     "metadata": {},
     "output_type": "execute_result"
    }
   ],
   "source": [
    "ret_dic"
   ]
  },
  {
   "cell_type": "markdown",
   "metadata": {},
   "source": [
    "# torch save and load\n",
    "优点：快，直接存，任意类型，保证数字的精准，不担心文件打开与关闭\n",
    "\n",
    "缺点：由于任意类型，读取速度会稍微慢一些(有tensor 1.7s，无tensor 0.1s)，保存文件会大一些\n",
    "        可读性很差（用了pickle）"
   ]
  },
  {
   "cell_type": "code",
   "execution_count": 49,
   "metadata": {},
   "outputs": [],
   "source": [
    "th.save(data, 'ts.json')"
   ]
  },
  {
   "cell_type": "code",
   "execution_count": 50,
   "metadata": {},
   "outputs": [
    {
     "data": {
      "text/plain": [
       "{'name': 'e',\n",
       " 'task': 32,\n",
       " 'model': True,\n",
       " 'count': 1,\n",
       " 'patient': 'dzq',\n",
       " 'fre_chs': 2,\n",
       " 'loss': {'tr_loss': {}, 'test_loss': {}},\n",
       " 'acc': {'tr_acc': {}, 'test_acc': {}},\n",
       " 'd': {0: '1', 1: 'fds', 2: 'r', 3: 3},\n",
       " 'torch': {'fsd': {'1': [1.0, 2.299999952316284, 3.0], '2': [2.0, 5.0, 7.0]}},\n",
       " 'ad': 1}"
      ]
     },
     "execution_count": 50,
     "metadata": {},
     "output_type": "execute_result"
    }
   ],
   "source": [
    "data2 = th.load('ts.json')\n",
    "data2 "
   ]
  },
  {
   "cell_type": "code",
   "execution_count": 12,
   "metadata": {},
   "outputs": [],
   "source": [
    "import time"
   ]
  },
  {
   "cell_type": "code",
   "execution_count": 16,
   "metadata": {},
   "outputs": [
    {
     "data": {
      "text/plain": [
       "'2021-08-11 Wed 11:54:14'"
      ]
     },
     "execution_count": 16,
     "metadata": {},
     "output_type": "execute_result"
    }
   ],
   "source": [
    "time.strftime(\"%Y-%m-%d %a %H:%M:%S\", time.localtime()) "
   ]
  },
  {
   "cell_type": "code",
   "execution_count": 19,
   "metadata": {},
   "outputs": [],
   "source": [
    "import os"
   ]
  },
  {
   "cell_type": "code",
   "execution_count": 26,
   "metadata": {},
   "outputs": [
    {
     "data": {
      "text/plain": [
       "'a\\\\c\\\\d'"
      ]
     },
     "execution_count": 26,
     "metadata": {},
     "output_type": "execute_result"
    }
   ],
   "source": [
    "os.path.join('a', *['c','d'])"
   ]
  },
  {
   "cell_type": "code",
   "execution_count": null,
   "metadata": {},
   "outputs": [],
   "source": [
    "pdd = np.array([1,2,3])"
   ]
  },
  {
   "cell_type": "code",
   "execution_count": 6,
   "metadata": {},
   "outputs": [],
   "source": [
    "d['r'] = dict()\n",
    "d['r'][0] = 0.2\n",
    "d['r'][1] = 2"
   ]
  }
 ],
 "metadata": {
  "kernelspec": {
   "display_name": "Python 3.8.11 ('DLtorch-py38')",
   "language": "python",
   "name": "python3"
  },
  "language_info": {
   "codemirror_mode": {
    "name": "ipython",
    "version": 3
   },
   "file_extension": ".py",
   "mimetype": "text/x-python",
   "name": "python",
   "nbconvert_exporter": "python",
   "pygments_lexer": "ipython3",
   "version": "3.8.11"
  },
  "orig_nbformat": 4,
  "vscode": {
   "interpreter": {
    "hash": "e0f4871174d17c2bcac589796388e07be3c0794fb1edf9d00f099d67ef52f7ad"
   }
  }
 },
 "nbformat": 4,
 "nbformat_minor": 2
}
