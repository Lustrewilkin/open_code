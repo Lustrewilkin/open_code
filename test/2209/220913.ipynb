{
 "cells": [
  {
   "cell_type": "code",
   "execution_count": 1,
   "metadata": {},
   "outputs": [
    {
     "name": "stderr",
     "output_type": "stream",
     "text": [
      "Using backend: pytorch\n"
     ]
    }
   ],
   "source": [
    "import time\n",
    "from torch.utils.tensorboard import SummaryWriter\n",
    "import os\n",
    "import surpport.mySQL as mySQL\n",
    "import surpport.myfunction as MF\n",
    "from surpport.Args import Args\n",
    "import torch.nn.functional as F\n",
    "import torch\n",
    "import numpy as np\n",
    "from surpport.nnstructure import Classifier7"
   ]
  },
  {
   "cell_type": "code",
   "execution_count": 5,
   "metadata": {},
   "outputs": [],
   "source": [
    "def recorder_build(arg):\n",
    "    base_rcd = mySQL.gen_base_rcd(arg)\n",
    "    recorder = {'base': base_rcd}\n",
    "    return recorder\n",
    "\n",
    "\n",
    "def train(arg, model, recorder, opt, tr_dataloader, ts_dataloader, writer):\n",
    "    # train\n",
    "    for epoch in range(1, arg.epoch_num+1):\n",
    "        # print(epoch)\n",
    "        recorder[str(epoch)+'-th'] = dict()\n",
    "        rd = recorder[str(epoch)+'-th']\n",
    "        # 由于图经过拼合，所以需要多一个dataloader的过程\n",
    "        # 前两个是list\n",
    "        tr_loss, tr_acc = MF.train(\n",
    "            epoch,\n",
    "            model, opt, tr_dataloader,\n",
    "            arg,\n",
    "            writer\n",
    "        )\n",
    "        mySQL.rcd_log(tr_loss, tr_acc, writer, rd, epoch, 'train')\n",
    "\n",
    "        el_loss, el_acc, logits, labels = MF.evaluate(\n",
    "            epoch,\n",
    "            model, opt, ts_dataloader,\n",
    "            arg,\n",
    "            writer\n",
    "        )\n",
    "\n",
    "        mySQL.rcd_log(el_loss, el_acc, writer, rd, epoch, 'test')\n",
    "        mySQL.rcd_result(logits, labels, rd)\n",
    "\n",
    "        val_acc = np.mean(el_acc, axis=0)\n",
    "        mySQL.save_best(epoch, model, val_acc, arg, opt)\n",
    "\n",
    "    mySQL.save_final(epoch, model, val_acc, arg, opt)\n",
    "\n",
    "    mySQL.save_recorder(recorder, arg, 'flow')\n",
    "    print('best acc: %.4f' % (arg.best_acc))\n",
    "    return None\n"
   ]
  },
  {
   "cell_type": "markdown",
   "metadata": {},
   "source": [
    "## cross 超参数实验"
   ]
  },
  {
   "cell_type": "code",
   "execution_count": 3,
   "metadata": {},
   "outputs": [
    {
     "data": {
      "text/plain": [
       "[(3, 9), (6, 9), (12, 9), (24, 9)]"
      ]
     },
     "execution_count": 3,
     "metadata": {},
     "output_type": "execute_result"
    }
   ],
   "source": [
    "heads = [3, 6, 12, 24]\n",
    "# alphas = [5, 7, 9, 11]\n",
    "alphas = [9]*4 # 训练没保存参数，得重新来\n",
    "pairs = []\n",
    "for h in heads:\n",
    "    pairs.append((h, 9))\n",
    "pairs"
   ]
  },
  {
   "cell_type": "code",
   "execution_count": 4,
   "metadata": {},
   "outputs": [],
   "source": [
    "## arg 属性调整\n",
    "from surpport.Args import Args\n",
    "def rec_arg(arg: Args, p):\n",
    "    arg.pip_num = p[0]\n",
    "    arg.display_freq = 80\n",
    "    arg.exception_acc = 0.05\n",
    "    arg.epoch_num = 120\n",
    "    return arg"
   ]
  },
  {
   "cell_type": "code",
   "execution_count": null,
   "metadata": {},
   "outputs": [],
   "source": [
    "from surpport.cross_Dprocess import c_dataload\n",
    "\n",
    "count = 1\n",
    "\n",
    "for p in pairs[1:]:\n",
    "    arg = rec_arg(Args(), p)\n",
    "    model = Classifier7(arg) # 都不接受参数，所以没问题\n",
    "    model = model.cuda()\n",
    "    arg.d_prepare('Cross', 2)\n",
    "    # ! 每次运行都改\n",
    "    count += 1\n",
    "    arg.m_info(m_name='m7', m_task='220920_pre_exp', num=count,)\n",
    "    base_rcd = mySQL.gen_base_rcd(arg)\n",
    "    recorder = {'base': base_rcd}\n",
    "    writer = SummaryWriter(arg.tar_path+'\\\\Journal')\n",
    "\n",
    "    opt_arg = {'params': model.parameters()}\n",
    "    #    'lr': 6e-5, 'eps': 1e-8, 'weight_decay': 0.1}\n",
    "    opt = torch.optim.Adam(**opt_arg)\n",
    "\n",
    "    arg, tr_dataloader, ts_dataloader = c_dataload(arg, model, opt, p[1])\n",
    "\n",
    "    train(arg, model, recorder, opt, tr_dataloader, ts_dataloader, writer)\n",
    "    writer.close()"
   ]
  }
 ],
 "metadata": {
  "kernelspec": {
   "display_name": "Python 3.8.11 ('DLtorch-py38')",
   "language": "python",
   "name": "python3"
  },
  "language_info": {
   "codemirror_mode": {
    "name": "ipython",
    "version": 3
   },
   "file_extension": ".py",
   "mimetype": "text/x-python",
   "name": "python",
   "nbconvert_exporter": "python",
   "pygments_lexer": "ipython3",
   "version": "3.8.11"
  },
  "orig_nbformat": 4,
  "vscode": {
   "interpreter": {
    "hash": "e0f4871174d17c2bcac589796388e07be3c0794fb1edf9d00f099d67ef52f7ad"
   }
  }
 },
 "nbformat": 4,
 "nbformat_minor": 2
}
