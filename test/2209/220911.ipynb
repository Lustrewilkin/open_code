{
 "cells": [
  {
   "cell_type": "code",
   "execution_count": 2,
   "metadata": {},
   "outputs": [
    {
     "name": "stderr",
     "output_type": "stream",
     "text": [
      "Using backend: pytorch\n"
     ]
    }
   ],
   "source": [
    "import time\n",
    "from torch.utils.tensorboard import SummaryWriter\n",
    "import os\n",
    "import surpport.mySQL as mySQL\n",
    "import surpport.myfunction as MF\n",
    "from surpport.Args import Args\n",
    "from surpport.dataprocess import dataload\n",
    "import torch.nn.functional as F\n",
    "import torch\n",
    "import numpy as np\n",
    "from surpport.nnstructure import Classifier7\n",
    "from Experiment.Baseline.NoneGraph.EEGNet import EEGNet2\n",
    "from Experiment.Baseline.GraphModel.GNN.GNN import GCN, DGCN"
   ]
  },
  {
   "cell_type": "code",
   "execution_count": 3,
   "metadata": {},
   "outputs": [],
   "source": [
    "def recorder_build(arg):\n",
    "    base_rcd = mySQL.gen_base_rcd(arg)\n",
    "    recorder = {'base': base_rcd}\n",
    "    return recorder\n",
    "\n",
    "\n",
    "def train(arg, model, recorder, opt, tr_dataloader, ts_dataloader, writer):\n",
    "    # train\n",
    "    for epoch in range(1, arg.epoch_num+1):\n",
    "        # print(epoch)\n",
    "        recorder[str(epoch)+'-th'] = dict()\n",
    "        rd = recorder[str(epoch)+'-th']\n",
    "        # 由于图经过拼合，所以需要多一个dataloader的过程\n",
    "        # 前两个是list\n",
    "        tr_loss, tr_acc = MF.train(\n",
    "            epoch,\n",
    "            model, opt, tr_dataloader,\n",
    "            arg,\n",
    "            writer\n",
    "        )\n",
    "        mySQL.rcd_log(tr_loss, tr_acc, writer, rd, epoch, 'train')\n",
    "\n",
    "        el_loss, el_acc, logits, labels = MF.evaluate(\n",
    "            epoch,\n",
    "            model, opt, ts_dataloader,\n",
    "            arg,\n",
    "            writer\n",
    "        )\n",
    "\n",
    "        mySQL.rcd_log(el_loss, el_acc, writer, rd, epoch, 'test')\n",
    "        mySQL.rcd_result(logits, labels, rd)\n",
    "\n",
    "        val_acc = np.mean(el_acc, axis=0)\n",
    "        MF.save_best(val_acc, model, arg)\n",
    "\n",
    "        mySQL.save_final(epoch, model, val_acc, arg, opt)\n",
    "\n",
    "    mySQL.save_recorder(recorder, arg, 'flow')\n",
    "    print('best acc: %.4f' % (arg.best_acc))\n",
    "    return None\n",
    "\n"
   ]
  },
  {
   "cell_type": "markdown",
   "metadata": {},
   "source": [
    "## 基础对比实验"
   ]
  },
  {
   "cell_type": "code",
   "execution_count": 12,
   "metadata": {},
   "outputs": [],
   "source": [
    "# start_time = time.perf_counter()\n",
    "models = {'eegnet2': EEGNet2, 'gcn1': GCN, 'dgcn1': GCN,}\n",
    "names = ['dzq', 'kly', 'lbg']\n",
    "fs = [2]"
   ]
  },
  {
   "cell_type": "code",
   "execution_count": 13,
   "metadata": {},
   "outputs": [
    {
     "data": {
      "text/plain": [
       "[('eegnet2', 'dzq'),\n",
       " ('eegnet2', 'kly'),\n",
       " ('eegnet2', 'lbg'),\n",
       " ('gcn1', 'dzq'),\n",
       " ('gcn1', 'kly'),\n",
       " ('gcn1', 'lbg'),\n",
       " ('dgcn1', 'dzq'),\n",
       " ('dgcn1', 'kly'),\n",
       " ('dgcn1', 'lbg')]"
      ]
     },
     "execution_count": 13,
     "metadata": {},
     "output_type": "execute_result"
    }
   ],
   "source": [
    "pairs = []\n",
    "for m in models.keys():\n",
    "    for n in names:\n",
    "        pairs.append((m, n))\n",
    "pairs"
   ]
  },
  {
   "cell_type": "code",
   "execution_count": 17,
   "metadata": {},
   "outputs": [
    {
     "data": {
      "text/plain": [
       "Experiment.Baseline.NoneGraph.EEGNet.EEGNet2"
      ]
     },
     "execution_count": 17,
     "metadata": {},
     "output_type": "execute_result"
    }
   ],
   "source": [
    "model = models[p[0]]\n",
    "model"
   ]
  },
  {
   "cell_type": "code",
   "execution_count": null,
   "metadata": {},
   "outputs": [],
   "source": [
    "# start_time = time.perf_counter()\n",
    "count = 0\n",
    "\n",
    "for p in pairs:\n",
    "    arg = Args()\n",
    "    model = models[p[0]]() # 都不接受参数，所以没问题\n",
    "    model = model.cuda()\n",
    "    arg.d_prepare(p[1], 2)\n",
    "    # ! 每次运行都改\n",
    "    count += 1\n",
    "    arg.m_info(m_name=p[0], m_task='220911_exp', num=count,)\n",
    "    base_rcd = mySQL.gen_base_rcd(arg)\n",
    "    recorder = {'base': base_rcd}\n",
    "    writer = SummaryWriter(arg.tar_path+'\\\\Journal')\n",
    "\n",
    "    opt_arg = {'params': model.parameters()}\n",
    "    #    'lr': 6e-5, 'eps': 1e-8, 'weight_decay': 0.1}\n",
    "    opt = torch.optim.Adam(**opt_arg)\n",
    "\n",
    "    arg, tr_dataloader, ts_dataloader = dataload(arg, model, opt)\n",
    "\n",
    "    train(arg, model, recorder, opt, tr_dataloader, ts_dataloader, writer)\n",
    "    writer.close()"
   ]
  }
 ],
 "metadata": {
  "kernelspec": {
   "display_name": "Python 3.8.11 ('DLtorch-py38')",
   "language": "python",
   "name": "python3"
  },
  "language_info": {
   "codemirror_mode": {
    "name": "ipython",
    "version": 3
   },
   "file_extension": ".py",
   "mimetype": "text/x-python",
   "name": "python",
   "nbconvert_exporter": "python",
   "pygments_lexer": "ipython3",
   "version": "3.8.11"
  },
  "orig_nbformat": 4,
  "vscode": {
   "interpreter": {
    "hash": "e0f4871174d17c2bcac589796388e07be3c0794fb1edf9d00f099d67ef52f7ad"
   }
  }
 },
 "nbformat": 4,
 "nbformat_minor": 2
}
