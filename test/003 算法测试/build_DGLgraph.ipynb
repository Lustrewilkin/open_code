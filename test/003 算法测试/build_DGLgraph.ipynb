{
 "cells": [
  {
   "cell_type": "code",
   "execution_count": 1,
   "metadata": {},
   "outputs": [],
   "source": [
    "import torch\n",
    "import numpy as np"
   ]
  },
  {
   "cell_type": "code",
   "execution_count": 2,
   "metadata": {},
   "outputs": [
    {
     "data": {
      "text/plain": [
       "tensor([[1., 1., 1., 1., 0.],\n",
       "        [1., 1., 1., 0., 1.],\n",
       "        [0., 1., 0., 1., 1.],\n",
       "        [1., 0., 1., 1., 1.],\n",
       "        [1., 1., 1., 1., 1.]])"
      ]
     },
     "execution_count": 2,
     "metadata": {},
     "output_type": "execute_result"
    }
   ],
   "source": [
    "e_d = torch.rand(5,5)\n",
    "\n",
    "edge_cout = torch.zeros_like(e_d)\n",
    "values, indices = e_d.topk(\n",
    "    4, dim=0, largest=True, sorted=True)\n",
    "\n",
    "edge_cout = edge_cout.scatter(\n",
    "    dim=0, index=indices, value=1)\n",
    "edge_list = edge_cout.nonzero()\n",
    "\n",
    "edge_cout"
   ]
  },
  {
   "cell_type": "code",
   "execution_count": 17,
   "metadata": {},
   "outputs": [
    {
     "data": {
      "text/plain": [
       "tensor([0.7474, 0.2365, 0.9989, 0.9448, 0.9322, 0.0903, 0.0397, 0.9250, 0.3702,\n",
       "        0.1154, 0.3460, 0.9418, 0.8518, 0.7123, 0.5954, 0.4300, 0.4361, 0.3519,\n",
       "        0.1706, 0.4948, 0.1689, 0.1688, 0.7522, 0.3829, 0.5658])"
      ]
     },
     "execution_count": 17,
     "metadata": {},
     "output_type": "execute_result"
    }
   ],
   "source": [
    "e_d = torch.rand(5,5)\n",
    "e_d = e_d.reshape(-1)\n",
    "e_d\n"
   ]
  },
  {
   "cell_type": "code",
   "execution_count": 30,
   "metadata": {},
   "outputs": [
    {
     "data": {
      "text/plain": [
       "tensor([ 2,  3, 11,  4,  7, 12, 22,  0, 13, 14, 24, 19])"
      ]
     },
     "execution_count": 30,
     "metadata": {},
     "output_type": "execute_result"
    }
   ],
   "source": [
    "values, indices = e_d.topk(\n",
    "    int(e_d.shape[0]/2), dim=0, largest=True, sorted=False)\n",
    "indices"
   ]
  },
  {
   "cell_type": "code",
   "execution_count": 31,
   "metadata": {},
   "outputs": [
    {
     "data": {
      "text/plain": [
       "tensor([1., 0., 1., 1., 1., 0., 0., 1., 0., 0., 0., 1., 1., 1., 1., 0., 0., 0.,\n",
       "        0., 1., 0., 0., 1., 0., 1.])"
      ]
     },
     "execution_count": 31,
     "metadata": {},
     "output_type": "execute_result"
    }
   ],
   "source": [
    "edge_cout = torch.zeros_like(e_d)\n",
    "edge_cout = edge_cout.scatter(\n",
    "    dim=0, index=indices, value=1)\n",
    "edge_cout"
   ]
  },
  {
   "cell_type": "code",
   "execution_count": 32,
   "metadata": {},
   "outputs": [
    {
     "data": {
      "text/plain": [
       "tensor([[1., 0., 1., 1., 1.],\n",
       "        [0., 0., 1., 0., 0.],\n",
       "        [0., 1., 1., 1., 1.],\n",
       "        [0., 0., 0., 0., 1.],\n",
       "        [0., 0., 1., 0., 1.]])"
      ]
     },
     "execution_count": 32,
     "metadata": {},
     "output_type": "execute_result"
    }
   ],
   "source": [
    "edge_cout = edge_cout.reshape(5,5)\n",
    "edge_cout"
   ]
  },
  {
   "cell_type": "code",
   "execution_count": null,
   "metadata": {},
   "outputs": [],
   "source": []
  }
 ],
 "metadata": {
  "kernelspec": {
   "display_name": "Python 3.8.11 ('DLtorch-py38')",
   "language": "python",
   "name": "python3"
  },
  "language_info": {
   "codemirror_mode": {
    "name": "ipython",
    "version": 3
   },
   "file_extension": ".py",
   "mimetype": "text/x-python",
   "name": "python",
   "nbconvert_exporter": "python",
   "pygments_lexer": "ipython3",
   "version": "3.8.11"
  },
  "orig_nbformat": 2,
  "vscode": {
   "interpreter": {
    "hash": "e0f4871174d17c2bcac589796388e07be3c0794fb1edf9d00f099d67ef52f7ad"
   }
  }
 },
 "nbformat": 4,
 "nbformat_minor": 2
}
