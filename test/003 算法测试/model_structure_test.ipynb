{
 "metadata": {
  "language_info": {
   "codemirror_mode": {
    "name": "ipython",
    "version": 3
   },
   "file_extension": ".py",
   "mimetype": "text/x-python",
   "name": "python",
   "nbconvert_exporter": "python",
   "pygments_lexer": "ipython3",
   "version": "3.8.8"
  },
  "orig_nbformat": 2,
  "kernelspec": {
   "name": "python388jvsc74a57bd0d37b66ffc5da229f2fb45392e78f2db803c8ac0923a91475ecdb24103ce8950e",
   "display_name": "Python 3.8.8 64-bit ('DL-torch-py38': conda)"
  }
 },
 "nbformat": 4,
 "nbformat_minor": 2,
 "cells": [
  {
   "cell_type": "code",
   "execution_count": 1,
   "metadata": {},
   "outputs": [
    {
     "output_type": "stream",
     "name": "stderr",
     "text": [
      "Using backend: pytorch\n"
     ]
    }
   ],
   "source": [
    "from scipy import io\n",
    "import numpy as np\n",
    "import os\n",
    "import torch \n",
    "import dgl \n",
    "from dataprocess import dataloader, Arg, my_dataset"
   ]
  },
  {
   "cell_type": "code",
   "execution_count": 9,
   "metadata": {},
   "outputs": [],
   "source": [
    "data = io.loadmat('E:\\\\DATABASE\\\\renzhi_BN\\\\EEG3\\\\dzq\\\\data.mat')"
   ]
  },
  {
   "cell_type": "code",
   "execution_count": 2,
   "metadata": {},
   "outputs": [],
   "source": [
    "coh = io.loadmat('E:\\\\DATABASE\\\\renzhi_BN\\\\EEG3\\\\dzq\\\\adj.mat')\n",
    "#名字和连接矩阵需要重组，按照节点数据的格式\n",
    "# for key in coh:\n",
    "#     print(key)\n"
   ]
  },
  {
   "cell_type": "code",
   "execution_count": 41,
   "metadata": {},
   "outputs": [],
   "source": [
    "cohr = coh.items()"
   ]
  },
  {
   "cell_type": "code",
   "execution_count": 4,
   "metadata": {},
   "outputs": [],
   "source": [
    "line1 = data['dzq']"
   ]
  },
  {
   "cell_type": "code",
   "execution_count": 17,
   "metadata": {},
   "outputs": [
    {
     "output_type": "execute_result",
     "data": {
      "text/plain": [
       "(5, 1)"
      ]
     },
     "metadata": {},
     "execution_count": 17
    }
   ],
   "source": [
    "line1[0,0].shape"
   ]
  },
  {
   "cell_type": "code",
   "execution_count": 5,
   "metadata": {},
   "outputs": [],
   "source": [
    "line2 = line1[0,0][1,0][2,0]"
   ]
  },
  {
   "cell_type": "code",
   "execution_count": 11,
   "metadata": {},
   "outputs": [
    {
     "output_type": "execute_result",
     "data": {
      "text/plain": [
       "(18, 512)"
      ]
     },
     "metadata": {},
     "execution_count": 11
    }
   ],
   "source": [
    "\"\"\"\n",
    "    循环填充代码\n",
    "    循环尺度最好选最大的且为2的倍数（幂指数）\n",
    "\"\"\"\n",
    "temp1 = np.c_[line2,line2,line2]\n",
    "temp2 = temp1[:,0:512]\n",
    "temp2.shape"
   ]
  },
  {
   "cell_type": "code",
   "execution_count": 29,
   "metadata": {},
   "outputs": [],
   "source": [
    "adj = np.ones((18,18))\n",
    "edge_list = np.nonzero(adj)\n",
    "g = dgl.convert.graph(edge_list)\n",
    "#g.edata['f0'] = torch.tensor(line4.reshape(-1,1)).float()\n"
   ]
  },
  {
   "cell_type": "code",
   "execution_count": 42,
   "metadata": {},
   "outputs": [],
   "source": [
    "g.ndata['h1'] = torch.tensor(line2).float() #节点数X特征长度 即可"
   ]
  },
  {
   "cell_type": "code",
   "execution_count": 43,
   "metadata": {},
   "outputs": [
    {
     "output_type": "execute_result",
     "data": {
      "text/plain": [
       "tensor(4.6391)"
      ]
     },
     "metadata": {},
     "execution_count": 43
    }
   ],
   "source": [
    "g.ndata['h1'][0,0] "
   ]
  },
  {
   "cell_type": "code",
   "execution_count": 69,
   "metadata": {},
   "outputs": [],
   "source": [
    "from dgl.nn import GraphConv\n",
    "conv = GraphConv(293, 4, norm='both', weight=True, bias=True)\n",
    "res1 = conv(g, feat = g.ndata['h'], edge_weight = g.edata['f0'])\n",
    "res2 = conv(g, feat = g.ndata['h'])"
   ]
  },
  {
   "cell_type": "code",
   "execution_count": 80,
   "metadata": {},
   "outputs": [
    {
     "output_type": "execute_result",
     "data": {
      "text/plain": [
       "(tensor([[ 1.2509, -0.9039],\n",
       "         [ 1.2509, -0.9039],\n",
       "         [ 1.2509, -0.9039]], grad_fn=<AddBackward0>),\n",
       " tensor([[0.7069, 0.3094],\n",
       "         [0.7069, 0.3094],\n",
       "         [0.7069, 0.3094]], grad_fn=<AddBackward0>))"
      ]
     },
     "metadata": {},
     "execution_count": 80
    }
   ],
   "source": [
    "adj = np.ones((3,3))\n",
    "e_l = adj.nonzero()\n",
    "g = dgl.convert.graph(e_l)\n",
    "g = dgl.add_self_loop(g)\n",
    "feat1 = torch.ones(3, 1)\n",
    "conv1 = GraphConv(1, 2, norm='both', weight=True, bias=True)\n",
    "res1 = conv1(g, feat1)\n",
    "conv2 = GraphConv(1, 2, norm='both', weight=True, bias=True)\n",
    "feat2 = torch.ones(3,1)\n",
    "res2 = conv2(g,feat1)\n",
    "res1, res2"
   ]
  },
  {
   "cell_type": "code",
   "execution_count": 72,
   "metadata": {},
   "outputs": [],
   "source": [
    "def collate(samples):\n",
    "    #用map提取了samples的每个元素，在list里拼合再tensor，但应该是可以直接的\n",
    "    graphs, labels = map(list, zip(*samples))\n",
    "    batched_graph = dgl.batch(graphs)\n",
    "    # 复杂的原因是特征只有一维，用迭代器才可以array\n",
    "    batched_labels = torch.tensor(np.array([item.detach().numpy() for item in labels]))                                \n",
    "    #batched_labels = torch.tensor(lables)\n",
    "    return batched_graph, batched_labels"
   ]
  },
  {
   "cell_type": "code",
   "execution_count": 10,
   "metadata": {},
   "outputs": [
    {
     "output_type": "execute_result",
     "data": {
      "text/plain": [
       "((5, 1), (5, 1))"
      ]
     },
     "metadata": {},
     "execution_count": 10
    }
   ],
   "source": [
    "fdata = data['data'][0,0]\n",
    "edata = data['data'][1,0]\n",
    "fdata.shape , edata.shape"
   ]
  },
  {
   "cell_type": "code",
   "execution_count": 11,
   "metadata": {},
   "outputs": [
    {
     "output_type": "execute_result",
     "data": {
      "text/plain": [
       "((101, 1), (18, 244))"
      ]
     },
     "metadata": {},
     "execution_count": 11
    }
   ],
   "source": [
    "f1 = fdata[0,0]\n",
    "f2 = f1[0,0]\n",
    "f1.shape ,f2.shape"
   ]
  },
  {
   "cell_type": "code",
   "execution_count": 12,
   "metadata": {},
   "outputs": [
    {
     "output_type": "execute_result",
     "data": {
      "text/plain": [
       "((101, 1), (33, 1), (18, 18))"
      ]
     },
     "metadata": {},
     "execution_count": 12
    }
   ],
   "source": [
    "e1 = edata[0,0] # 试验次数\n",
    "e2 = e1[0,0] # 频率\n",
    "e3 = e2[0,0]\n",
    "e1.shape,e2.shape,e3.shape"
   ]
  },
  {
   "cell_type": "code",
   "execution_count": 19,
   "metadata": {},
   "outputs": [],
   "source": [
    "a = torch.tensor([[0.,1.,0.],[0.,0.,1.]])\n",
    "b = torch.tensor([[1],[2]])"
   ]
  },
  {
   "cell_type": "code",
   "execution_count": 30,
   "metadata": {},
   "outputs": [
    {
     "output_type": "execute_result",
     "data": {
      "text/plain": [
       "(tensor([[-1.5514, -0.5514, -1.5514],\n",
       "         [-1.5514, -1.5514, -0.5514]]),\n",
       " tensor([[0., 1., 0.],\n",
       "         [0., 0., 1.]]))"
      ]
     },
     "metadata": {},
     "execution_count": 30
    }
   ],
   "source": [
    "a_n = torch.nn.functional.log_softmax(a,dim = 1)\n",
    "b_n = torch.zeros_like(a_n)\n",
    "b_n = b_n.scatter(dim=1,index = b,value = 1)\n",
    "a_n,b_n"
   ]
  },
  {
   "cell_type": "code",
   "execution_count": 27,
   "metadata": {},
   "outputs": [
    {
     "output_type": "execute_result",
     "data": {
      "text/plain": [
       "(tensor([[0.0000, 0.8712, 0.0000],\n",
       "         [0.0000, 0.0000, 0.8712]]),\n",
       " tensor(1.7424))"
      ]
     },
     "metadata": {},
     "execution_count": 27
    }
   ],
   "source": [
    "cha1 = torch.sqrt(torch.mul(a_n,b_n))\n",
    "cha = cha1.mean()*cha1.shape[0]*cha1.shape[1]\n",
    "cha1,cha"
   ]
  },
  {
   "cell_type": "code",
   "execution_count": 33,
   "metadata": {},
   "outputs": [
    {
     "output_type": "execute_result",
     "data": {
      "text/plain": [
       "tensor([[ True, False],\n",
       "        [False,  True]])"
      ]
     },
     "metadata": {},
     "execution_count": 33
    }
   ],
   "source": [
    "cha1.max(1)[1] == b"
   ]
  },
  {
   "cell_type": "code",
   "execution_count": 25,
   "metadata": {},
   "outputs": [
    {
     "output_type": "execute_result",
     "data": {
      "text/plain": [
       "tensor(0.2576)"
      ]
     },
     "metadata": {},
     "execution_count": 25
    }
   ],
   "source": [
    "   res = 2-cha\n",
    "   res"
   ]
  },
  {
   "cell_type": "code",
   "execution_count": 28,
   "metadata": {},
   "outputs": [
    {
     "output_type": "execute_result",
     "data": {
      "text/plain": [
       "tensor(0.3589)"
      ]
     },
     "metadata": {},
     "execution_count": 28
    }
   ],
   "source": [
    "acc = (1/torch.sqrt(torch.tensor(2))*torch.sqrt(res))\n",
    "acc"
   ]
  },
  {
   "cell_type": "code",
   "execution_count": 2,
   "metadata": {},
   "outputs": [
    {
     "output_type": "execute_result",
     "data": {
      "text/plain": [
       "(128, 256)"
      ]
     },
     "metadata": {},
     "execution_count": 2
    }
   ],
   "source": [
    "orp = 0\n",
    "drp = 128\n",
    "orp,drp = orp+128,drp+128\n",
    "orp,drp"
   ]
  },
  {
   "cell_type": "code",
   "execution_count": 24,
   "metadata": {},
   "outputs": [
    {
     "output_type": "stream",
     "name": "stdout",
     "text": [
      "tensor([[ 1.0655, -0.7096,  0.6405, -2.0533,  1.9299],\n        [-0.9971,  0.4101, -1.4562, -2.0961,  1.0172],\n        [ 0.2582, -1.1407,  0.0614, -1.3147,  0.3592],\n        [ 0.3762,  1.0997,  1.1899,  1.2995, -0.2576]])\ntensor([[1.9299],\n        [1.0172],\n        [0.3592],\n        [1.2995]]) tensor([[4],\n        [4],\n        [4],\n        [3]])\n"
     ]
    }
   ],
   "source": [
    "pred = torch.randn((4, 5))\n",
    "print(pred)\n",
    "values, indices = pred.topk(1, dim=1, largest=True, sorted=True)\n",
    "print(values, indices)"
   ]
  },
  {
   "cell_type": "code",
   "execution_count": 31,
   "metadata": {},
   "outputs": [],
   "source": [
    "lables = torch.tensor([[1],[2],[4],[3]])"
   ]
  },
  {
   "cell_type": "code",
   "execution_count": 33,
   "metadata": {},
   "outputs": [
    {
     "output_type": "execute_result",
     "data": {
      "text/plain": [
       "tensor(0.5000)"
      ]
     },
     "metadata": {},
     "execution_count": 33
    }
   ],
   "source": [
    "acc = (indices == lables).float().mean()\n",
    "acc"
   ]
  },
  {
   "cell_type": "code",
   "execution_count": 15,
   "metadata": {},
   "outputs": [
    {
     "output_type": "execute_result",
     "data": {
      "text/plain": [
       "tensor([[0, 0],\n",
       "        [0, 1],\n",
       "        [0, 2],\n",
       "        [0, 3],\n",
       "        [0, 4],\n",
       "        [2, 0],\n",
       "        [2, 2],\n",
       "        [2, 3],\n",
       "        [2, 4],\n",
       "        [3, 1]])"
      ]
     },
     "metadata": {},
     "execution_count": 15
    }
   ],
   "source": [
    "list1 = eac.nonzero()\n",
    "list1"
   ]
  },
  {
   "cell_type": "code",
   "execution_count": 23,
   "metadata": {},
   "outputs": [
    {
     "output_type": "execute_result",
     "data": {
      "text/plain": [
       "10"
      ]
     },
     "metadata": {},
     "execution_count": 23
    }
   ],
   "source": [
    "# list1 = list1.tolist()\n",
    "len(list1)"
   ]
  },
  {
   "cell_type": "code",
   "execution_count": 2,
   "metadata": {},
   "outputs": [],
   "source": [
    "# 2021年4月27日21:06:30\n",
    "arg = Arg()\n",
    "dataset = my_dataset(raw_dir=arg.raw_dir,save_dir=arg.save_dir)"
   ]
  },
  {
   "cell_type": "code",
   "execution_count": 40,
   "metadata": {},
   "outputs": [
    {
     "output_type": "execute_result",
     "data": {
      "text/plain": [
       "[1, 5, 9, 10, 14, 17, 20, 23, 27, 28]"
      ]
     },
     "metadata": {},
     "execution_count": 40
    }
   ],
   "source": [
    "indict = []\n",
    "index = 0\n",
    "ran = int(len(dataset)/3)\n",
    "for i in range(ran):\n",
    "    chose = np.random.randint(1,4)\n",
    "    indict.append(index+chose)\n",
    "    index = 3+index\n",
    "indict[0:10]"
   ]
  },
  {
   "cell_type": "code",
   "execution_count": null,
   "metadata": {},
   "outputs": [],
   "source": [
    "indict = range(len(dataset))\n",
    "split_n = int(len(dataset)/dataset.num_labels*0.8)\n",
    "ind2 = []"
   ]
  },
  {
   "cell_type": "code",
   "execution_count": null,
   "metadata": {},
   "outputs": [],
   "source": [
    "indict = [range(300),range(375,675),range(750,1125),range()]"
   ]
  },
  {
   "cell_type": "code",
   "execution_count": 43,
   "metadata": {},
   "outputs": [
    {
     "output_type": "execute_result",
     "data": {
      "text/plain": [
       "([range(0, 300),\n",
       "  range(375, 675),\n",
       "  range(750, 1050),\n",
       "  range(1125, 1425),\n",
       "  range(1500, 1800)],\n",
       " [range(300, 375),\n",
       "  range(675, 750),\n",
       "  range(1050, 1125),\n",
       "  range(1425, 1500),\n",
       "  range(1800, 1875)])"
      ]
     },
     "metadata": {},
     "execution_count": 43
    }
   ],
   "source": [
    "ori = 0\n",
    "tr_indict = []\n",
    "te_indict = []\n",
    "for i in range(5):\n",
    "    tr_indict.append(range(ori,ori+300))\n",
    "    te_indict.append(range(ori+300,ori+375))\n",
    "    ori+=375\n",
    "tr_indict , te_indict "
   ]
  },
  {
   "cell_type": "code",
   "execution_count": 44,
   "metadata": {},
   "outputs": [],
   "source": [
    "train_simpler = torch.utils.data.sampler.SubsetRandomSampler(tr_indict)"
   ]
  }
 ]
}