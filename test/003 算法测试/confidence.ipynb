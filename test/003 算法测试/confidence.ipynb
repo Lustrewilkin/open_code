{
 "cells": [
  {
   "cell_type": "markdown",
   "metadata": {},
   "source": [
    "# 使用了一个概念：confidence\n",
    "https://blog.csdn.net/abcdefg90876/article/details/112598060?utm_medium=distribute.pc_relevant.none-task-blog-2~default~baidujs_title~default-0.control&spm=1001.2101.3001.4242"
   ]
  },
  {
   "cell_type": "code",
   "execution_count": 1,
   "metadata": {},
   "outputs": [],
   "source": [
    "import json\n",
    "import numpy as np\n",
    "# import torch as th"
   ]
  },
  {
   "cell_type": "code",
   "execution_count": 2,
   "metadata": {},
   "outputs": [],
   "source": [
    "with open(r'E:\\DATABASE\\FirstGNN\\patient\\wfz\\GNN_7\\flowrecorder.json', 'r', encoding='utf-8') as f:\n",
    "    recorder = json.load(f)"
   ]
  },
  {
   "cell_type": "code",
   "execution_count": 4,
   "metadata": {},
   "outputs": [],
   "source": [
    "record = []  # element = [avg_conf, avg_acc, bc]\n",
    "# 取出记录，多取几个\n",
    "# 300-325\n",
    "\n",
    "for i in range(300, 325):\n",
    "    t1 = recorder['{0}-th'.format(i)]\n",
    "    logits = np.array(t1['logits'])\n",
    "    labels = np.array(t1['labels'])\n",
    "    avg_conf, avg_acc, _ = ECE(logits, labels)\n",
    "    record.append([avg_conf, avg_acc])"
   ]
  },
  {
   "cell_type": "code",
   "execution_count": 11,
   "metadata": {},
   "outputs": [
    {
     "data": {
      "text/plain": [
       "(array([0.        , 0.        , 0.08916881, 0.36549279, 0.45724597,\n",
       "        0.5519007 , 0.65278123, 0.7538228 , 0.85449779, 0.9657954 ]),\n",
       " array([0.        , 0.        , 0.06      , 0.38974603, 0.50954361,\n",
       "        0.66173416, 0.79677119, 0.86271259, 0.90961336, 0.93068018]))"
      ]
     },
     "execution_count": 11,
     "metadata": {},
     "output_type": "execute_result"
    }
   ],
   "source": [
    "record = np.array(record)\n",
    "avg_conf_batch = np.mean(record[:,0],axis=0)\n",
    "avg_acc_batch = np.mean(record[:,1],axis=0)\n",
    "avg_conf_batch, avg_acc_batch"
   ]
  },
  {
   "cell_type": "code",
   "execution_count": 4,
   "metadata": {},
   "outputs": [
    {
     "data": {
      "text/plain": [
       "dict_keys(['ave_tr_loss', 'tr_loss', 'ave_tr_acc', 'tr_acc', 'ave_ts_loss', 'ave_ts_acc', 'ts_acc', 'logits', 'labels'])"
      ]
     },
     "execution_count": 4,
     "metadata": {},
     "output_type": "execute_result"
    }
   ],
   "source": [
    "t1.keys()"
   ]
  },
  {
   "cell_type": "code",
   "execution_count": 3,
   "metadata": {},
   "outputs": [],
   "source": [
    "def ECE(logits: np.ndarray, labels: np.ndarray):\n",
    "    def softmax(x, dim=1):\n",
    "        if type(x) != 'numpy.ndarray':\n",
    "            x = np.array(x)\n",
    "        x = np.exp(x)\n",
    "        x1 = np.transpose(x)\n",
    "        x = x1/np.sum(x, dim)\n",
    "        return np.transpose(x)\n",
    "\n",
    "    sf_log = softmax(logits[1:])\n",
    "    id_m = np.argmax(sf_log, axis=1)\n",
    "    # 样本属性申明,四元向量\n",
    "    sample = {'n': 0, 'res': 0, 'conf': 0, 'bin': 0}\n",
    "    # bsum = {acc, conf}, bc = count\n",
    "    bsum, bc = [[0, 0] for _ in range(10)], []\n",
    "    # sample list\n",
    "    slist = []\n",
    "    for i in range(len(id_m)):\n",
    "        sample = [0, 0, 0, 0]\n",
    "        # 准确与否\n",
    "        if id_m[i] == labels[i+1]:\n",
    "            sample[1] = 1\n",
    "        else:\n",
    "            sample[1] = 0\n",
    "        # p\n",
    "        sample[2] = sf_log[i][id_m[i]]\n",
    "        # 分桶\n",
    "        for p in range(10):\n",
    "            if sample[2] > p*0.1 and sample[2] <= (p+1)*0.1:\n",
    "                sample[3] = p\n",
    "        sample[0] = i\n",
    "        slist.append(sample)\n",
    "\n",
    "    for bn in range(10):\n",
    "        bcc = 0\n",
    "        for i in range(len(id_m)):\n",
    "            if slist[i][3] == bn:\n",
    "                bsum[bn][0] += slist[i][1]  # acc\n",
    "                bsum[bn][1] += slist[i][2]  # conf\n",
    "                bcc += 1\n",
    "        bc.append(bcc)\n",
    "\n",
    "    avg_conf = list()\n",
    "    avg_acc = list()\n",
    "    for i in range(10):\n",
    "        if bc[i] != 0:\n",
    "            avg_acc.append(bsum[i][0]/bc[i])\n",
    "            avg_conf.append(bsum[i][1]/bc[i])\n",
    "        else:\n",
    "            avg_acc.append(0)\n",
    "            avg_conf.append(0)\n",
    "    return avg_conf, avg_acc, bc"
   ]
  },
  {
   "cell_type": "markdown",
   "metadata": {},
   "source": [
    "## yiqi"
   ]
  },
  {
   "cell_type": "code",
   "execution_count": 96,
   "metadata": {},
   "outputs": [],
   "source": [
    "# 分桶\n",
    "# biuld bin\n",
    "bin = []\n",
    "for i in np.arange(0,10):\n",
    "    bin.append([])\n",
    "\n",
    "# 放置元素\n",
    "for i in range(len(id_m)):\n",
    "    sample = total_bin[i]\n",
    "    for j in range(0,10):\n",
    "        if sample[1] < 0.1*(j+1) and sample[1] > 0.1*j:\n",
    "            bin[j].append(i)"
   ]
  },
  {
   "cell_type": "code",
   "execution_count": 115,
   "metadata": {},
   "outputs": [
    {
     "data": {
      "text/plain": [
       "([], [])"
      ]
     },
     "execution_count": 115,
     "metadata": {},
     "output_type": "execute_result"
    }
   ],
   "source": [
    "bsum, bc = [], []\n",
    "bsum, bc"
   ]
  },
  {
   "cell_type": "code",
   "execution_count": 62,
   "metadata": {},
   "outputs": [
    {
     "ename": "NameError",
     "evalue": "name 'size' is not defined",
     "output_type": "error",
     "traceback": [
      "\u001b[1;31m---------------------------------------------------------------------------\u001b[0m",
      "\u001b[1;31mNameError\u001b[0m                                 Traceback (most recent call last)",
      "\u001b[1;32mD:\\Temp/ipykernel_11736/3812609375.py\u001b[0m in \u001b[0;36m<module>\u001b[1;34m\u001b[0m\n\u001b[1;32m----> 1\u001b[1;33m \u001b[0msize\u001b[0m\u001b[1;33m(\u001b[0m\u001b[0mbin\u001b[0m\u001b[1;33m)\u001b[0m\u001b[1;33m\u001b[0m\u001b[1;33m\u001b[0m\u001b[0m\n\u001b[0m",
      "\u001b[1;31mNameError\u001b[0m: name 'size' is not defined"
     ]
    }
   ],
   "source": [
    "# 计算桶属性\n",
    "avg_conf = list()\n",
    "avg_acc = list()\n",
    "for j in range(0,10):\n",
    "    b_acc = 0\n",
    "    b_conf = 0\n",
    "    for id in bin[j]:\n",
    "        b_acc += total_bin[]"
   ]
  },
  {
   "cell_type": "code",
   "execution_count": 42,
   "metadata": {},
   "outputs": [],
   "source": [
    "v_log = []\n",
    "for i in range(len(id_m)):\n",
    "    v_log.append(sf_log[i,id_m[i]])"
   ]
  },
  {
   "cell_type": "code",
   "execution_count": 43,
   "metadata": {},
   "outputs": [],
   "source": [
    "# tof = []\n",
    "# for i in range(len(id_m)):\n",
    "#     if id_m[i] == labels[i+1]:\n",
    "#         tof.append(id_m[i]*0.1)\n",
    "#     else:\n",
    "#         tof.append(0)"
   ]
  },
  {
   "cell_type": "code",
   "execution_count": 44,
   "metadata": {},
   "outputs": [],
   "source": [
    "# bin\n",
    "bin = {}\n",
    "for i in np.arange(0,10):\n",
    "    bin['{}'.format(i)] = dict()\n",
    "    bin[f'{i}']['v'] = list()\n",
    "    bin[f'{i}']['tof'] = list()\n",
    "\n",
    "for i2 in range(len(id_m)):\n",
    "    id = 0\n",
    "    v = sf_log[i2, id_m[i2]]\n",
    "    for i in np.arange(0,1,0.1):\n",
    "        if i < v and v < (i+0.1):\n",
    "            bin[f'{id}']['v'].append(v)\n",
    "            bin[f'{id}']['tof'].append(tof[i2]*i)\n",
    "        id +=1\n"
   ]
  },
  {
   "cell_type": "code",
   "execution_count": 87,
   "metadata": {},
   "outputs": [
    {
     "data": {
      "text/plain": [
       "0.4684227456723457"
      ]
     },
     "execution_count": 87,
     "metadata": {},
     "output_type": "execute_result"
    }
   ],
   "source": [
    "i=1\n",
    "# bin[f'{4}']['v']\n",
    "afc = np.array(bin[f'{4}']['v'])\n",
    "# afc\n",
    "np.mean(afc, axis=0)"
   ]
  },
  {
   "cell_type": "code",
   "execution_count": 45,
   "metadata": {},
   "outputs": [],
   "source": [
    "avg_conf = list()\n",
    "avg_acc = list()\n",
    "num = list()\n",
    "for i in range(10):\n",
    "    if bin[f'{i}']['v'] == []:\n",
    "        avg_conf.append(0)\n",
    "        avg_acc.append(0)\n",
    "        num.append(0)\n",
    "    else:\n",
    "        num.append(len(bin[f'{i}']['v'])) \n",
    "        avg_conf.append(np.mean(bin[f'{i}']['v'], axis=0))\n",
    "        avg_acc.append(np.mean(bin[f'{i}']['tof'], axis=0))"
   ]
  },
  {
   "cell_type": "code",
   "execution_count": 46,
   "metadata": {},
   "outputs": [
    {
     "data": {
      "text/plain": [
       "([0,\n",
       "  0,\n",
       "  0,\n",
       "  0.3487195393712365,\n",
       "  0.4684227456723457,\n",
       "  0.550247284642358,\n",
       "  0.6564190149543077,\n",
       "  0.756842370274204,\n",
       "  0.8617083231846192,\n",
       "  0.9675013252656],\n",
       " [0,\n",
       "  0,\n",
       "  0,\n",
       "  0.0,\n",
       "  0.05666666666666667,\n",
       "  0.06315789473684212,\n",
       "  0.08769230769230772,\n",
       "  0.14,\n",
       "  0.16640000000000005,\n",
       "  0.1822167487684729])"
      ]
     },
     "execution_count": 46,
     "metadata": {},
     "output_type": "execute_result"
    }
   ],
   "source": [
    "avg_conf, avg_acc"
   ]
  },
  {
   "cell_type": "markdown",
   "metadata": {},
   "source": [
    "# matplot"
   ]
  },
  {
   "cell_type": "code",
   "execution_count": 89,
   "metadata": {},
   "outputs": [],
   "source": [
    "import matplotlib.pyplot as plt"
   ]
  },
  {
   "cell_type": "code",
   "execution_count": 143,
   "metadata": {},
   "outputs": [
    {
     "data": {
      "text/plain": [
       "<matplotlib.lines.Line2D at 0x17f52251a30>"
      ]
     },
     "execution_count": 143,
     "metadata": {},
     "output_type": "execute_result"
    },
    {
     "data": {
      "image/png": "[encoded data removed]",
      "text/plain": [
       "<Figure size 432x288 with 1 Axes>"
      ]
     },
     "metadata": {
      "needs_background": "light"
     },
     "output_type": "display_data"
    }
   ],
   "source": [
    "figure, ax = plt.subplots()\n",
    "ax.bar(np.arange(0.05,1.05,0.1), avg_conf, color='r', alpha=0.5, width=0.1, \n",
    "edgecolor='black', linewidth=2)\n",
    "ax.bar(np.arange(0.05,1.05,0.1), avg_acc, color='b', alpha=0.5, width=0.1, \n",
    "edgecolor='black', linewidth=2)\n",
    "# ax.bar(range(1,11,1), avg_conf, color='r', alpha=0.5)\n",
    "# ax.bar(range(1,11,1), avg_acc, color='b', alpha=0.5)\n",
    "ax.set_ylim(0,1)\n",
    "ax.set_xlim(0,1)\n",
    "line1 = [[0,0],[1,1]]\n",
    "(line1_xs, line1_ys) = zip(*line1)\n",
    "ax.add_line(plt.Line2D(line1_xs, line1_ys, linewidth=1, color='black'))\n",
    "# ax.plot(avg_conf,avg_acc)\n",
    "# plt.show()"
   ]
  },
  {
   "cell_type": "code",
   "execution_count": 150,
   "metadata": {},
   "outputs": [],
   "source": [
    "avg_acc = np.array(avg_acc)\n",
    "avg_conf = np.array(avg_conf)\n",
    "num = np.array(num)\n",
    "ece_list = (avg_conf-avg_acc) * num\n",
    "ece = np.sum(ece_list)/np.sum(num)"
   ]
  },
  {
   "cell_type": "code",
   "execution_count": 151,
   "metadata": {},
   "outputs": [
    {
     "data": {
      "text/plain": [
       "0.13923936666721182"
      ]
     },
     "execution_count": 151,
     "metadata": {},
     "output_type": "execute_result"
    }
   ],
   "source": [
    "ece"
   ]
  }
 ],
 "metadata": {
  "interpreter": {
   "hash": "17df5e0dbd28e3de4a377cfa55fc96f308325d7152f8bc5af8ae2e74f866f3ef"
  },
  "kernelspec": {
   "display_name": "Python 3.8.11 64-bit ('DLtorch-py38': conda)",
   "language": "python",
   "name": "python3"
  },
  "language_info": {
   "codemirror_mode": {
    "name": "ipython",
    "version": 3
   },
   "file_extension": ".py",
   "mimetype": "text/x-python",
   "name": "python",
   "nbconvert_exporter": "python",
   "pygments_lexer": "ipython3",
   "version": "3.8.11"
  },
  "orig_nbformat": 4
 },
 "nbformat": 4,
 "nbformat_minor": 2
}
